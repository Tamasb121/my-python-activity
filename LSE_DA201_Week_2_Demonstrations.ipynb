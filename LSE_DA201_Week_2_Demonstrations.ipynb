{
 "cells": [
  {
   "cell_type": "markdown",
   "id": "b0343a4b",
   "metadata": {},
   "source": [
    "### LSE Data Analytics Online Career Accelerator\n",
    "\n",
    "# DA201: Data Analytics using Python"
   ]
  },
  {
   "cell_type": "markdown",
   "id": "043b9ae1",
   "metadata": {},
   "source": [
    "## Week 2: Getting started with Pandas demonstrations"
   ]
  },
  {
   "cell_type": "markdown",
   "id": "a9829121",
   "metadata": {},
   "source": [
    "The focus this week is on introducing, setting up, and exploring Pandas. You will use this Notebook to follow along with the demonstrations throughout the week.\n",
    "\n",
    "Learn about using your Jupyter Notebook here: https://jupyter-notebook.readthedocs.io/en/latest/ui_components.html\n",
    "\n",
    "This is your Notebook. Use it to follow along with the demonstrations, test ideas and explore what is possible. The hands-on experience of writing your own code will accelerate your learning!"
   ]
  },
  {
   "cell_type": "markdown",
   "id": "123ef55f",
   "metadata": {},
   "source": [
    "### 2.1 Data ingestion with Pandas"
   ]
  },
  {
   "cell_type": "code",
   "execution_count": null,
   "id": "3c2837ea",
   "metadata": {},
   "outputs": [],
   "source": [
    "# import Pandas library\n",
    "import pandas as pd"
   ]
  },
  {
   "cell_type": "code",
   "execution_count": null,
   "id": "1ef52b2d",
   "metadata": {},
   "outputs": [],
   "source": [
    "# Create the variable colours.\n",
    "# Pass an array of data.\n",
    "colours = pd.Series(['green', 'red', 'yellow', 'blue', 'black', 'white'])\n",
    "\n",
    "# Print the Series.\n",
    "print(colours)"
   ]
  },
  {
   "cell_type": "code",
   "execution_count": null,
   "id": "ec7e103d",
   "metadata": {},
   "outputs": [],
   "source": [
    "# Create a list.\n",
    "example_list = [1, 2, 3, 4, 5, 6]\n",
    "  \n",
    "# Create Series from a list.\n",
    "numbers = pd.Series(example_list)\n",
    "\n",
    "# Print the Series.\n",
    "print(numbers)"
   ]
  },
  {
   "cell_type": "code",
   "execution_count": null,
   "id": "3d456568",
   "metadata": {},
   "outputs": [],
   "source": [
    "# Create a dictionary.\n",
    "# Specify the dictionary as dict_1.\n",
    "dict_1 = {'AU':'Australian Dollar',\n",
    "          'US': 'US Dollar',\n",
    "          'IN': 'Indian Rupee',\n",
    "          'DK': 'Danish Krone',\n",
    "          'SW': 'Swiss Franc'}\n",
    "\n",
    "# Name and create the Series.\n",
    "economics = pd.Series(dict_1)\n",
    "\n",
    "# Print the Series.\n",
    "print(economics)"
   ]
  },
  {
   "cell_type": "code",
   "execution_count": null,
   "id": "1363201b",
   "metadata": {},
   "outputs": [],
   "source": [
    "import pandas as pd\n",
    "import numpy as np\n",
    "\n",
    "# emergency nunbers with dictionary. Practical activity 3.\n",
    "dict_1 = {'Law Enforcement':123,\n",
    "         'Fire and Rescue Services':224,\n",
    "          'Emergency Medical Services':101,\n",
    "          'Emergency Management':999,\n",
    "          'Public Works':900}\n",
    "# put phone numbers in quotation mark if you need objects\n",
    "# create Series\n",
    "emergency_numbers = pd.Series(dict_1)\n",
    "\n",
    "# emergency protocols\n",
    "list_2 = ['prevention', 'mitigation', 'preparedness', 'response', 'recovery']\n",
    "\n",
    "emergency_protocols = pd.Series((list_2),\n",
    "                        index = ['1','2','3','4','5'])\n",
    "\n",
    "# emergency checklist\n",
    "list_3 = ['Check carotid pulse (neck)', \n",
    "          'Check breathing (nose)',\n",
    "          'Check for obstructions (nose, ears, mouth)',\n",
    "          'Check pupils (responsive)',\n",
    "          'Consciousness',\n",
    "          'Contact details',\n",
    "          'Any allergies']\n",
    "\n",
    "emergency_checklist = pd.Series(list_3)\n",
    "\n",
    "print(emergency_numbers)\n",
    "print(emergency_protocols)\n",
    "print(emergency_checklist)"
   ]
  },
  {
   "cell_type": "code",
   "execution_count": null,
   "id": "4e6d98f7",
   "metadata": {},
   "outputs": [],
   "source": [
    "# Import Pandas.\n",
    "import pandas as pd\n",
    "\n",
    "# Create an empty DataFrame.\n",
    "df = pd.DataFrame()\n",
    "\n",
    "# Create an empty Series.\n",
    "ser = pd.Series()\n",
    "\n",
    "# Print the DataFrame and Series.\n",
    "print(df)\n",
    "print(ser)"
   ]
  },
  {
   "cell_type": "code",
   "execution_count": null,
   "id": "2fab6bd3",
   "metadata": {},
   "outputs": [],
   "source": [
    "\n",
    "name\n",
    "countries\n",
    "qualification\n",
    "age\n"
   ]
  },
  {
   "cell_type": "code",
   "execution_count": null,
   "id": "24317236",
   "metadata": {},
   "outputs": [],
   "source": [
    "# Create a dictionary.\n",
    "data = {'Name': ['Thando', 'Divya', 'Simon', 'Peter'],\n",
    "        'Country': ['South Africa', 'Singapore', 'United Kingdom', 'Australia'],\n",
    "        'Qualification': ['Phd', 'Diploma', 'BSc', 'MBA'],\n",
    "        'Age': [29, 20, 25, 23],}\n",
    "\n",
    "# Create a DataFrame from the dictionary.\n",
    "students = pd.DataFrame(data)\n",
    "\n",
    "# Print the DataFrame.\n",
    "students"
   ]
  },
  {
   "cell_type": "code",
   "execution_count": null,
   "id": "5e0a46d8",
   "metadata": {},
   "outputs": [],
   "source": [
    "# Import Pandas.\n",
    "import pandas as pd\n",
    "\n",
    "# Create a dictionary.\n",
    "data = {'name': ['Shen Lee', 'Leon Buhle', 'Tracy Adams', 'Lebo Sinuka', 'Lauren Pierce', 'Monika Bond',\n",
    "                'Natahs Allsop', 'Nicholas Winter', 'Christopher Eckson', 'Siobhan O\\'Malley'],\n",
    "        'sick_leave': [10,8,10,9,7,10,9,10,8,5],\n",
    "        'annual_leave': [23,20,15,19,21,21,10,15,16,23],\n",
    "        'personal_leave': [5,4,5,0,5,2,5,4,2,5],\n",
    "        'bonus': [3, 0, 0, 3, 3, 6, 0, 3, 6, 3],\n",
    "        'total_taken': [0, 3, 5, 10, 5, 8, 11, 9, 15, 5],\n",
    "        'total_available': [38, 32, 30, 28, 33, 33, 24, 29, 26, 33],\n",
    "        'annual_total': [38, 35, 35, 38, 38, 41, 35, 38, 41, 38]}\n",
    "\n",
    "# Assign row labels'\n",
    "row_labels = [215, 216, 217, 218, 219, 220, 221, 222, 223, 224]\n",
    "\n",
    "# Create a DataFrame.\n",
    "employees = pd.DataFrame(data, columns = ['name','annual_leave','sick_leave','personal_leave',\n",
    "                                          'total_taken','bonus','total_available','annual_total'],\n",
    "                                         index = row_labels)\n",
    "\n",
    "employees.index.name = 'Personnel_ID'\n",
    "\n",
    "employees\n"
   ]
  },
  {
   "cell_type": "code",
   "execution_count": null,
   "id": "98470f34",
   "metadata": {},
   "outputs": [],
   "source": [
    "# Import pandas. This code only works if I put the CSV file in the same directory.\n",
    "import pandas as pd\n",
    "\n",
    "# Read the CSV file.\n",
    "# Assign a variable.\n",
    "# Use the pd.read_csv() function.\n",
    "# Specify the name of the CSV file.\n",
    "fitness = pd.read_csv('daily_activity.csv')\n",
    "\n",
    "# Or, when no header or ; separator: fitness = pd.read_csv('daily_activity.csv', header=None, sep=';')             \n",
    "\n",
    "# Print the DataFrame.\n",
    "fitness"
   ]
  },
  {
   "cell_type": "code",
   "execution_count": null,
   "id": "dce6b099",
   "metadata": {},
   "outputs": [],
   "source": [
    "# Read a TSV file (only for illustration purposes).\n",
    "# df refers to the name of the DataFrame.\n",
    "\n",
    "df = pd.read_csv('filename.txt', sep='\\t')\n",
    "\n",
    "df.head()"
   ]
  },
  {
   "cell_type": "markdown",
   "id": "80b252e0",
   "metadata": {},
   "source": [
    "# Modifying the DataFrame."
   ]
  },
  {
   "cell_type": "code",
   "execution_count": null,
   "id": "b5ed0433",
   "metadata": {},
   "outputs": [],
   "source": [
    "# Import the Pandas library. (For illustration purposes only)\n",
    "import pandas as pd\n",
    "\n",
    "# Read the CSV from the current working directory .\n",
    "# Specify that there is no header in the data set using header=None.\n",
    "fitness = pd.read_csv('daily_activity.csv', header=None)\n",
    "\n",
    "# View the DataFrame.\n",
    "fitness"
   ]
  },
  {
   "cell_type": "code",
   "execution_count": null,
   "id": "f6020d3d",
   "metadata": {},
   "outputs": [],
   "source": [
    "# Specify that header should be col_names (alphabetic letters). (For illustration purposes only)\n",
    "col_names = ['a', 'b', 'c', 'd', 'e', 'f', 'g',\n",
    "             'h', 'i', 'j', 'k', 'l', 'm', 'n', 'o']\n",
    "\n",
    "# Read the CSV file.\n",
    "fitness = pd.read_csv('daily_activity.csv', names=col_names)\n",
    "\n",
    "# View the DataFrame.\n",
    "fitness"
   ]
  },
  {
   "cell_type": "code",
   "execution_count": null,
   "id": "4a266401",
   "metadata": {},
   "outputs": [],
   "source": [
    "# Rename the index column to observation. (For illustration purposes only)\n",
    "fitness.index.names = ['observation']\n",
    "\n",
    "# View the DataFrame.\n",
    "fitness"
   ]
  },
  {
   "cell_type": "code",
   "execution_count": null,
   "id": "803f30ce",
   "metadata": {},
   "outputs": [],
   "source": [
    "# Create a hierarchical index.\n",
    "col_names2 = ['I1', 'I2', 'c', 'd', 'e', 'f', 'g',\n",
    "              'h', 'i', 'j', 'k', 'l', 'm', 'n', 'o']\n",
    "\n",
    "# Read the CSV file.\n",
    "fitness = pd.read_csv('daily_activity.csv', names=col_names2,\n",
    "index_col=['I1', 'I2'])\n",
    "\n",
    "# View the DataFrame.\n",
    "fitness"
   ]
  },
  {
   "cell_type": "markdown",
   "id": "934bc5f7",
   "metadata": {},
   "source": [
    "### 2.2 Pandas built-in functions"
   ]
  },
  {
   "cell_type": "code",
   "execution_count": null,
   "id": "8a85af9a",
   "metadata": {},
   "outputs": [],
   "source": [
    "import pandas as pd\n",
    "fitness = pd.read_csv('daily_activity.csv')\n",
    "\n",
    "# Using print(pd.shape):\n",
    "fitness.head()\n",
    "print(fitness.dtypes)\n",
    "print(fitness.shape)"
   ]
  },
  {
   "cell_type": "markdown",
   "id": "e4451a28",
   "metadata": {},
   "source": [
    "# Subsetting the DataFrame."
   ]
  },
  {
   "cell_type": "code",
   "execution_count": null,
   "id": "c7bdf89b",
   "metadata": {},
   "outputs": [],
   "source": [
    "# Using tolist:\n",
    "my_list = fitness.columns.values.tolist()\n",
    "print(my_list)"
   ]
  },
  {
   "cell_type": "code",
   "execution_count": null,
   "id": "1144892e",
   "metadata": {},
   "outputs": [],
   "source": [
    "# Using list(df)\n",
    "\n",
    "list(fitness)"
   ]
  },
  {
   "cell_type": "code",
   "execution_count": null,
   "id": "1fa0801c",
   "metadata": {},
   "outputs": [],
   "source": [
    "# Adding a list:\n",
    "my_list = list(fitness)\n",
    "\n",
    "my_list"
   ]
  },
  {
   "cell_type": "code",
   "execution_count": null,
   "id": "7ef4a327",
   "metadata": {},
   "outputs": [],
   "source": [
    "# Selecting few columns.\n",
    "fitness_fcol = pd.read_csv('daily_activity.csv', \n",
    "                            usecols=['Id', 'ActivityDate', 'TotalSteps'])\n",
    "\n",
    "# Print the DataFrame with 7 rows.\n",
    "fitness_fcol.head(7)"
   ]
  },
  {
   "cell_type": "code",
   "execution_count": null,
   "id": "ab7fb473",
   "metadata": {},
   "outputs": [],
   "source": [
    "# Selecting few columns.\n",
    "fitness_nrow = pd.read_csv('daily_activity.csv', nrows=7)\n",
    "# Print the DataFrame.\n",
    "\n",
    "fitness_nrow"
   ]
  },
  {
   "cell_type": "code",
   "execution_count": null,
   "id": "97c37327",
   "metadata": {},
   "outputs": [],
   "source": [
    "# Shape of data frame.\n",
    "print(fitness.shape)\n",
    "\n",
    "# Skiprows parameter.\n",
    "fitness_skiprows = pd.read_csv('daily_activity.csv', skiprows=500)\n",
    "\n",
    "# Print the DataFrame.\n",
    "print(fitness_skiprows.shape)"
   ]
  },
  {
   "cell_type": "code",
   "execution_count": null,
   "id": "4abc60a0",
   "metadata": {},
   "outputs": [],
   "source": [
    "# Only for demonstration.\n",
    "# df= pd.read_csv(filename, skipfooter=1)\n",
    "\n",
    "# df"
   ]
  },
  {
   "cell_type": "code",
   "execution_count": null,
   "id": "19e5174c",
   "metadata": {},
   "outputs": [],
   "source": [
    "list(fitness)"
   ]
  },
  {
   "cell_type": "code",
   "execution_count": null,
   "id": "ab7b553b",
   "metadata": {},
   "outputs": [],
   "source": [
    "# Selecting few columns.\n",
    "fitness_fcol = pd.read_csv('daily_activity.csv', \n",
    "                            usecols=['Id', 'ActivityDate', 'TotalSteps','TotalDistance', 'Calories'])\n",
    "\n",
    "# Print the DataFrame with 7 rows.\n",
    "fitness_fcol.head(7)"
   ]
  },
  {
   "cell_type": "code",
   "execution_count": null,
   "id": "c17d3afd",
   "metadata": {},
   "outputs": [],
   "source": [
    "# Selecting few columns.\n",
    "fitness_fcol2 = pd.read_csv('daily_activity.csv', \n",
    "                            usecols=['Id', 'LoggedActivitiesDistance',\n",
    " 'VeryActiveDistance',\n",
    " 'ModeratelyActiveDistance',\n",
    " 'LightActiveDistance',\n",
    " 'SedentaryActiveDistance',\n",
    " 'VeryActiveMinutes',\n",
    " 'FairlyActiveMinutes',\n",
    " 'LightlyActiveMinutes',\n",
    " 'SedentaryMinutes'])\n",
    "\n",
    "# Print the DataFrame with 7 rows.\n",
    "fitness_fcol2.head(7)"
   ]
  },
  {
   "cell_type": "code",
   "execution_count": null,
   "id": "0f892d30",
   "metadata": {},
   "outputs": [],
   "source": [
    "# Show first 15 rows calories\n",
    "calories = pd.read_csv('daily_activity.csv', usecols=['Id', 'Calories'], nrows=15)\n",
    "\n",
    "calories"
   ]
  },
  {
   "cell_type": "markdown",
   "id": "0db5ff24",
   "metadata": {},
   "source": [
    "# 2.2.2 Adding rows and columns"
   ]
  },
  {
   "cell_type": "code",
   "execution_count": null,
   "id": "11be17fb",
   "metadata": {},
   "outputs": [],
   "source": [
    "# Import packages.\n",
    "import pandas as pd\n",
    "\n",
    "# Create dataframe for dr veldtman.\n",
    "data = {'Name': ['Thando', 'Divya', 'Simon', 'Peter'],\n",
    "        'Country': ['South Africa', 'Singapore', 'United Kingdom', 'Australia'],\n",
    "        'Qualification': ['Phd', 'Diploma', 'BSc', 'MBA'],\n",
    "        'Age': [29, 20, 25, 23]}\n",
    "\n",
    "students = pd.DataFrame(data)\n",
    "\n",
    "students"
   ]
  },
  {
   "cell_type": "code",
   "execution_count": null,
   "id": "8cd69744",
   "metadata": {},
   "outputs": [],
   "source": [
    "# Re-order the columns.\n",
    "students = pd.DataFrame(data, columns=['Name', 'Age', 'Qualification', 'Country', 'Test_1',\n",
    "                                       'Tutorial_1', 'Test_2', 'Tutorial_2', 'Test_3', 'Tutorial_3', 'Final_Mark'])\n",
    "\n",
    "students"
   ]
  },
  {
   "cell_type": "code",
   "execution_count": null,
   "id": "b66d2a21",
   "metadata": {},
   "outputs": [],
   "source": [
    "raw_data = {'Name': ['Noncedo', 'David', 'Eugene', 'Amaira', 'Monica', 'Richard'],\n",
    "        'Age': [22, 23, 25, 24, 26, 22],\n",
    "        'Qualification': ['Diploma', 'BCom', 'Diploma', 'MCom', 'Phd', 'BCom'], \n",
    "        'Country': ['Lesotho', 'United Kingdom', 'Australia', 'India', 'Poland', 'Germany']}\n",
    "\n",
    "students_2 = pd.DataFrame(raw_data)\n",
    "\n",
    "students_2"
   ]
  },
  {
   "cell_type": "code",
   "execution_count": null,
   "id": "543c15c7",
   "metadata": {},
   "outputs": [],
   "source": [
    "# Add rows with concat.\n",
    "students_concat = pd.concat([students, students_2], ignore_index=True)\n",
    "\n",
    "students_concat"
   ]
  },
  {
   "cell_type": "code",
   "execution_count": null,
   "id": "4e66ce2c",
   "metadata": {},
   "outputs": [],
   "source": []
  },
  {
   "cell_type": "code",
   "execution_count": null,
   "id": "9bf862d1",
   "metadata": {},
   "outputs": [],
   "source": []
  },
  {
   "cell_type": "markdown",
   "id": "d8833bc9",
   "metadata": {},
   "source": [
    "# Apply your learning"
   ]
  },
  {
   "cell_type": "code",
   "execution_count": null,
   "id": "60a68654",
   "metadata": {},
   "outputs": [],
   "source": [
    "import pandas as pd\n",
    "fitnessc = pd.read_csv('daily_activity.csv')\n",
    "fitnessc.head()"
   ]
  },
  {
   "cell_type": "code",
   "execution_count": null,
   "id": "8a97fa02",
   "metadata": {},
   "outputs": [],
   "source": [
    "# Prepare your workstation.\n",
    "import pandas as pd\n",
    "\n",
    "# Read CSV file from the current working directory.\n",
    "fitness = pd.read_csv('daily_activity.csv')\n",
    "\n",
    "# Column names of data set.\n",
    "my_list = fitness.columns.values.tolist()\n",
    "\n",
    "my_list"
   ]
  },
  {
   "cell_type": "code",
   "execution_count": null,
   "id": "3f279865",
   "metadata": {},
   "outputs": [],
   "source": [
    "# Add column cal_cat to calculate the middle number of calories.\n",
    "fitness['cal_cat'] = fitness['Calories'] - fitness['Calories'].mean()\n",
    "\n",
    "# Sense-check values of cal_cat column.\n",
    "print(fitness['cal_cat'])\n",
    "\n",
    "# Print to sense-check column was added.\n",
    "print(fitness.head())"
   ]
  },
  {
   "cell_type": "code",
   "execution_count": null,
   "id": "8705ec00",
   "metadata": {},
   "outputs": [],
   "source": [
    "# Sort column from low to high to determine. \n",
    "print(fitness['cal_cat'].sort_values())\n",
    "\n",
    "# Determine min value (statistical method).\n",
    "print(fitness['cal_cat'].min())"
   ]
  },
  {
   "cell_type": "code",
   "execution_count": null,
   "id": "5c5e6e13",
   "metadata": {},
   "outputs": [],
   "source": [
    "# How many individuals per calory group.\n",
    "fitness['cal_cat'].value_counts()"
   ]
  },
  {
   "cell_type": "code",
   "execution_count": null,
   "id": "6a3fc56b",
   "metadata": {},
   "outputs": [],
   "source": [
    "fitness.describe()"
   ]
  },
  {
   "cell_type": "markdown",
   "id": "03e3e42d",
   "metadata": {},
   "source": [
    "### 2.3 Analysing data in Pandas"
   ]
  },
  {
   "cell_type": "code",
   "execution_count": null,
   "id": "6c881648",
   "metadata": {},
   "outputs": [],
   "source": [
    "import pandas as pd\n",
    "class_list = pd.Series"
   ]
  },
  {
   "cell_type": "code",
   "execution_count": null,
   "id": "03828b49",
   "metadata": {},
   "outputs": [],
   "source": [
    "my_list = pd.Series(['A', 'B', 'C'], index=[1,2,3])\n",
    "\n",
    "my_list"
   ]
  },
  {
   "cell_type": "code",
   "execution_count": null,
   "id": "f5e5b605",
   "metadata": {},
   "outputs": [],
   "source": [
    "print(my_list[1],my_list[2])"
   ]
  },
  {
   "cell_type": "code",
   "execution_count": null,
   "id": "36a74882",
   "metadata": {},
   "outputs": [],
   "source": [
    "print(my_list[[1,2,3]])"
   ]
  },
  {
   "cell_type": "code",
   "execution_count": null,
   "id": "4f467623",
   "metadata": {},
   "outputs": [],
   "source": []
  },
  {
   "cell_type": "code",
   "execution_count": null,
   "id": "3f902769",
   "metadata": {},
   "outputs": [],
   "source": [
    "# Importing Pandas package.\n",
    "import pandas as pd\n",
    "\n",
    "# Create series with explicit labelling.\n",
    "class_list = pd.Series(['Thando', 'Divya', 'Simon',\n",
    "                        'Peter', 'Noncedo', 'David',\n",
    "                        'Eugene', 'Amaira', 'Monica', 'Richard'],\n",
    "                       index=['2021/0562/3215', '2021/2136/2132',\n",
    "                        '2021/0021/5987', '2021/3165/0468',\n",
    "                        '2021/0132/5496', '2021/3698/1346',\n",
    "                        '2021/0147/9632', '2021/6549/1324',\n",
    "                        '2021/9513/3579', '2021/3491/7916'])\n",
    "\n",
    "class_list"
   ]
  },
  {
   "cell_type": "code",
   "execution_count": null,
   "id": "6dd64074",
   "metadata": {},
   "outputs": [],
   "source": [
    "# Determine the values.\n",
    "print(class_list.values)\n",
    "\n",
    "# Determine the index.\n",
    "print(class_list.index)"
   ]
  },
  {
   "cell_type": "markdown",
   "id": "4633d393",
   "metadata": {},
   "source": [
    "# "
   ]
  },
  {
   "cell_type": "code",
   "execution_count": null,
   "id": "d2c9cd4b",
   "metadata": {},
   "outputs": [],
   "source": [
    "# Retrieve values with an index.\n",
    "class_list['2021/2136/2132']"
   ]
  },
  {
   "cell_type": "code",
   "execution_count": null,
   "id": "cbfa7abc",
   "metadata": {},
   "outputs": [],
   "source": [
    "# Separate with comma.\n",
    "print(class_list['2021/2136/2132'], class_list ['2021/3165/0468'],\n",
    "      class_list ['2021/3491/7916'])\n",
    "\n"
   ]
  },
  {
   "cell_type": "code",
   "execution_count": null,
   "id": "ec7c8187",
   "metadata": {},
   "outputs": [],
   "source": [
    "# Write as one code snippet.\n",
    "print(class_list[['2021/2136/2132', '2021/3165/0468', '2021/3491/7916']])"
   ]
  },
  {
   "cell_type": "code",
   "execution_count": null,
   "id": "75b8170e",
   "metadata": {},
   "outputs": [],
   "source": [
    "# Indexing dataframes"
   ]
  },
  {
   "cell_type": "code",
   "execution_count": null,
   "id": "3def554e",
   "metadata": {},
   "outputs": [],
   "source": [
    "# Create the data for the DataFrame.\n",
    "raw_data = {'Name': ['Thando Sinuka', 'Divya Patterson',\n",
    "                     'Simon De Wit', 'Peter Black',\n",
    "                     'Noncedo Dlamini', 'David Ackerman',\n",
    "                     'Eugene du Toit', 'Amaira Patteri',\n",
    "                    'Monica Le Blanc', 'Richard Fortress'],\n",
    "            'Age': [29, 26, 25, 23, 30, 35, 25, 27, 24, 32],\n",
    "            'Qualification': ['PhD', 'MSc', 'MBA', 'BSc',\n",
    "                              'MCom', 'BCom', 'PhD', 'MBA', \n",
    "                              'MCom', 'BCom'],\n",
    "            'Country': ['South Africa', 'Singapore', 'United Kingdom',\n",
    "                        'Australia', 'Lesotho', 'United Kingdom',\n",
    "                        'Canada', 'India', 'France', 'Canada']}\n",
    "\n",
    "# Specify the row_lables.\n",
    "row_labels = ['2021/0562/3215', '2021/2136/2132',\n",
    "              '2021/0021/5987', '2021/3165/0468',\n",
    "              '2021/0132/5496', '2021/3698/1346',\n",
    "              '2021/0147/9632', '2021/6549/1324',\n",
    "              '2021/9513/3579', '2021/3491/7916']\n",
    "\n",
    "# Specify the column names.\n",
    "students_updated = pd.DataFrame (raw_data,\n",
    "                                 columns = ['Name', 'Age', 'Qualification',\n",
    "                                            'Country', 'Test 1', 'Tutorial 1',\n",
    "                                            'Test 2', 'Tutorial 2', 'Test 3',\n",
    "                                            'Tutorial 3', 'Final mark', 'Pass'],\n",
    "\n",
    "                                 # specify index = row_labels\n",
    "                                 index = row_labels)\n",
    "\n",
    "students_updated"
   ]
  },
  {
   "cell_type": "code",
   "execution_count": null,
   "id": "f4b28b49",
   "metadata": {},
   "outputs": [],
   "source": [
    "# All students the same mark.\n",
    "students_updated ['Test 1'] = 80\n",
    "\n",
    "students_updated"
   ]
  },
  {
   "cell_type": "code",
   "execution_count": null,
   "id": "d4f401a6",
   "metadata": {},
   "outputs": [],
   "source": [
    "test_1 = ['82', '90', '75', '70', '88', '65', '72', '76', '85', '68']\n",
    "students_updated ['Test 1'] = test_1\n",
    "\n",
    "students_updated"
   ]
  },
  {
   "cell_type": "code",
   "execution_count": null,
   "id": "f703ee4d",
   "metadata": {},
   "outputs": [],
   "source": [
    "tutorial_1 = [80, 75, 79, 69, 82, 68, 90, 84, 83, 79]\n",
    "students_updated ['Tutorial 1'] = test_1\n",
    "\n",
    "students_updated"
   ]
  },
  {
   "cell_type": "code",
   "execution_count": null,
   "id": "3390cf77",
   "metadata": {},
   "outputs": [],
   "source": [
    "# Option 1\n",
    "print(students_updated [['Test 1', 'Tutorial 1']])"
   ]
  },
  {
   "cell_type": "code",
   "execution_count": null,
   "id": "364c1676",
   "metadata": {},
   "outputs": [],
   "source": [
    "# Option 2\n",
    "print(students_updated.iloc[:, 4:6])"
   ]
  },
  {
   "cell_type": "code",
   "execution_count": null,
   "id": "4ee4f814",
   "metadata": {},
   "outputs": [],
   "source": [
    "# Retrieve row.\n",
    "# Option 1\n",
    "print(students_updated.loc['2021/2136/2132'])"
   ]
  },
  {
   "cell_type": "code",
   "execution_count": null,
   "id": "2f6207d0",
   "metadata": {},
   "outputs": [],
   "source": [
    "# Option 2\n",
    "print(students_updated.iloc[1])\n",
    "# print(Divya) would need Divya = students_updated.iloc[1]."
   ]
  },
  {
   "cell_type": "markdown",
   "id": "1d138eda",
   "metadata": {},
   "source": [
    "# 2.3.3 Data mapping, filtering, and sorting"
   ]
  },
  {
   "cell_type": "code",
   "execution_count": null,
   "id": "1b1ea471",
   "metadata": {},
   "outputs": [],
   "source": [
    "# Prepare your workstation.\n",
    "import pandas as pd\n",
    "\n",
    "# Create the data for the DataFrame.\n",
    "raw_data = {'Name': ['Thando Sinuka', 'Divya Patterson',\n",
    "                     'Simon De Wit', 'Peter Black',\n",
    "                     'Noncedo Dlamini', 'David Ackerman',\n",
    "                     'Eugene du Toit', 'Amaira Patteri',\n",
    "                     'Monica Le Blanc', 'Richard Fortress'],\n",
    "            'Age':[29, 26, 25, 23, 30, 35, 25, 27, 24, 32],\n",
    "            'Qualification': ['PhD', 'MSc', 'MBA', 'BSc',\n",
    "                              'MCom', 'BCom', 'PhD', 'MBA', \n",
    "                              'MCom', 'BCom'],\n",
    "            'Country': ['South Africa', 'Singapore', 'United Kingdom',\n",
    "                        'Australia', 'Lesotho', 'United Kingdom',\n",
    "                        'Canada', 'India', 'France', 'Canada']}\n",
    "\n",
    "# Specify the row_lables.\n",
    "row_labels = ['2021/0562/3215', '2021/2136/2132',\n",
    "              '2021/0021/5987', '2021/3165/0468',\n",
    "              '2021/0132/5496', '2021/3698/1346',\n",
    "              '2021/0147/9632', '2021/6549/1324',\n",
    "              '2021/9513/3579', '2021/3491/7916']\n",
    "\n",
    "# Specify the column names.\n",
    "students_updated = pd.DataFrame (raw_data,\n",
    "                                 columns = ['Name', 'Age', 'Qualification',\n",
    "                                            'Country', 'Test 1', 'Tutorial 1',\n",
    "                                            'Test 2', 'Tutorial 2', 'Test 3',\n",
    "                                            'Tutorial 3', 'Final mark', 'Pass'],\n",
    "\n",
    "                                 # specify index = row_labels\n",
    "                                 index = row_labels)\n",
    "\n",
    "\n",
    "students_updated ['Test 1'] = [82, 90, 75, 70, 88, 65, 72, 76, 85, 68]\n",
    "students_updated ['Tutorial 1'] = [80, 75, 79, 69, 82, 68, 90, 84, 83, 79]\n",
    "\n",
    "students_updated"
   ]
  },
  {
   "cell_type": "code",
   "execution_count": null,
   "id": "eea624b4",
   "metadata": {},
   "outputs": [],
   "source": [
    "# Students tut 2 mark.\n",
    "students_updated ['Tutorial 2'] = [80, 75, 79, 69, 82, 68, 90, 84, 83, 79]\n",
    "\n",
    "students_updated"
   ]
  },
  {
   "cell_type": "code",
   "execution_count": null,
   "id": "17f2c134",
   "metadata": {},
   "outputs": [],
   "source": [
    "# Map method on tut 2.\n",
    "# Create new series.\n",
    "tut_2 = {80:80, 75:75, 79:0, 69:74, 82:80,\n",
    "         68:75, 90:80, 84:84, 83:81, 79:80}\n",
    "\n",
    "# Add new series to current DataFrame.\n",
    "students_updated['tut_2'] = students_updated ['Tutorial 2'].map(tut_2)\n",
    "\n",
    "# Reorder columns.\n",
    "students_updated = students_updated [['Name', 'Age', 'Qualification', \n",
    "                                     'Country', 'Test 1', 'Tutorial 1',\n",
    "                                     'Test 2', 'Tutorial 2', 'tut_2', \n",
    "                                     'Test 3', 'Tutorial 3', 'Final mark',\n",
    "                                     'Pass']]\n",
    "\n",
    "students_updated"
   ]
  },
  {
   "cell_type": "code",
   "execution_count": null,
   "id": "cd2731c1",
   "metadata": {},
   "outputs": [],
   "source": [
    "# Create a class list with all the students. \n",
    "class_list = pd.Series(['Thando', 'Divya', 'Simon',\n",
    "                  'Peter', 'Noncedo', 'David',\n",
    "                  'Eugene', 'Amaira', 'Monica', 'Richard'],\n",
    "            index=['2021/0562/3215', '2021/2136/2132',\n",
    "                    '2021/0021/5987', '2021/3165/0468',\n",
    "                  '2021/0132/5496', '2021/3698/1346',\n",
    "                  '2021/0147/9632', '2021/6549/1324',\n",
    "                    '2021/9513/3579', '2021/3491/7916'])\n",
    "\n",
    "class_list\n",
    "\n",
    "# Filter series.\n",
    "class_list [class_list != 'Divya']"
   ]
  },
  {
   "cell_type": "code",
   "execution_count": null,
   "id": "3cee422f",
   "metadata": {},
   "outputs": [],
   "source": [
    "my_list = pd.Series(['A', 'B', 'C'], index=[1,2,3])\n",
    "\n",
    "# Filter series.\n",
    "my_list [my_list != 'B']"
   ]
  },
  {
   "cell_type": "code",
   "execution_count": null,
   "id": "a906a0b6",
   "metadata": {},
   "outputs": [],
   "source": [
    "# Sort series.\n",
    "class_list.sort_index()"
   ]
  },
  {
   "cell_type": "code",
   "execution_count": null,
   "id": "c12834e6",
   "metadata": {},
   "outputs": [],
   "source": [
    "students_updated.sort_values(by=['Age','Name'], inplace=True)\n",
    "students_updated"
   ]
  },
  {
   "cell_type": "markdown",
   "id": "dbd33951",
   "metadata": {},
   "source": [
    "# Normalisation of data."
   ]
  },
  {
   "cell_type": "code",
   "execution_count": null,
   "id": "28145153",
   "metadata": {},
   "outputs": [],
   "source": [
    "import pandas as pd\n",
    "fitness = pd.read_csv('daily_activity.csv')\n",
    "fitness.head"
   ]
  },
  {
   "cell_type": "code",
   "execution_count": null,
   "id": "345192e4",
   "metadata": {},
   "outputs": [],
   "source": [
    "fitness.shape"
   ]
  },
  {
   "cell_type": "code",
   "execution_count": null,
   "id": "c343bc87",
   "metadata": {},
   "outputs": [],
   "source": [
    "# Values of total distance before scaling.\n",
    "fitness['TotalDistance']"
   ]
  },
  {
   "cell_type": "code",
   "execution_count": null,
   "id": "551dc44e",
   "metadata": {},
   "outputs": [],
   "source": [
    "# Apply the maximum absolute scaling in Pandas using the .abs() and .max() methods.\n",
    "def max_abs_scaling(df):\n",
    "    # Copy the DataFrame.\n",
    "    df_scaled = df.copy()\n",
    "    if isinstance(df_scaled, pd.DataFrame):\n",
    "        # Apply maximum absolute scaling.\n",
    "        for column in df_scaled.columns:\n",
    "            df_scaled[column] = df_scaled[column] / df_scaled[column].abs(\n",
    "            ).max()\n",
    "    else:\n",
    "        df_scaled = df_scaled / df_scaled.abs().max()\n",
    "        \n",
    "    return df_scaled\n",
    "    \n",
    "# Call the maximum_absolute_scaling function.\n",
    "fitness['TotalDistance'] = max_abs_scaling(fitness['TotalDistance'])\n",
    "\n",
    "# Call the new values of the total distance column.\n",
    "fitness['TotalDistance']"
   ]
  },
  {
   "cell_type": "code",
   "execution_count": null,
   "id": "0dccf2c3",
   "metadata": {},
   "outputs": [],
   "source": [
    "# Values of sedentary minutes before.\n",
    "fitness['SedentaryMinutes']"
   ]
  },
  {
   "cell_type": "code",
   "execution_count": null,
   "id": "b89292b4",
   "metadata": {},
   "outputs": [],
   "source": [
    "# Apply the min-max scaling in Pandas using the .min() and .max() methods.\n",
    "def min_max_scaling(df):\n",
    "   # Copy the DataFrame.\n",
    "    df_scaled = df.copy()\n",
    "   # Apply min-max scaling.\n",
    "    if isinstance(df_scaled, pd.DataFrame):\n",
    "        for column in df_scaled.columns:\n",
    "            df_scaled[column] = (df_scaled[column] - df_scaled[column].min()\n",
    "                                ) / (df_scaled[column].max(\n",
    "            ) - df_scaled[column].min())\n",
    "    else:\n",
    "        df_scaled = (df_scaled - df_scaled.min()) / (df_scaled.max(\n",
    "        ) - df_scaled.min())\n",
    "  \n",
    "    return df_scaled\n",
    "\n",
    "# Call the call the min_max_scaling function.\n",
    "fitness['SedentaryMinutes_new'] = min_max_scaling(fitness['SedentaryMinutes'])\n",
    "\n",
    "# Call the new values of the sedentary minutes column.\n",
    "fitness['SedentaryMinutes_new']"
   ]
  }
 ],
 "metadata": {
  "kernelspec": {
   "display_name": "Python 3 (ipykernel)",
   "language": "python",
   "name": "python3"
  },
  "language_info": {
   "codemirror_mode": {
    "name": "ipython",
    "version": 3
   },
   "file_extension": ".py",
   "mimetype": "text/x-python",
   "name": "python",
   "nbconvert_exporter": "python",
   "pygments_lexer": "ipython3",
   "version": "3.9.12"
  }
 },
 "nbformat": 4,
 "nbformat_minor": 5
}
