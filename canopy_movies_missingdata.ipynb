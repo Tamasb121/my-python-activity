{
 "cells": [
  {
   "cell_type": "code",
   "execution_count": null,
   "id": "0e52762a",
   "metadata": {},
   "outputs": [],
   "source": [
    "import pandas as pd\n",
    "movies = pd.read_excel('movies.xlsx')\n",
    "\n",
    "movies\n"
   ]
  },
  {
   "cell_type": "code",
   "execution_count": null,
   "id": "791695d1",
   "metadata": {},
   "outputs": [],
   "source": [
    "movies.sort_values(('Runtime'), ascending=False)"
   ]
  },
  {
   "cell_type": "code",
   "execution_count": null,
   "id": "e7893e28",
   "metadata": {},
   "outputs": [],
   "source": [
    "movies[0:4]"
   ]
  },
  {
   "cell_type": "code",
   "execution_count": null,
   "id": "e2272dc2",
   "metadata": {},
   "outputs": [],
   "source": [
    "movies.shape"
   ]
  },
  {
   "cell_type": "code",
   "execution_count": null,
   "id": "fe519031",
   "metadata": {},
   "outputs": [],
   "source": [
    "movies.dtypes"
   ]
  },
  {
   "cell_type": "code",
   "execution_count": null,
   "id": "556af36a",
   "metadata": {},
   "outputs": [],
   "source": [
    "my_list = movies.columns.values.tolist()\n",
    "my_list\n"
   ]
  },
  {
   "cell_type": "code",
   "execution_count": null,
   "id": "23af41b5",
   "metadata": {},
   "outputs": [],
   "source": [
    "movies.columns"
   ]
  },
  {
   "cell_type": "code",
   "execution_count": null,
   "id": "4ef3a313",
   "metadata": {},
   "outputs": [],
   "source": [
    "# Find missing data in 'Age' column.\n",
    "movies['Age'].isnull().sum()"
   ]
  },
  {
   "cell_type": "code",
   "execution_count": null,
   "id": "4f714dbc",
   "metadata": {},
   "outputs": [],
   "source": [
    "# Replace the missing values in Age column with a set value\n",
    "movies['Age'][movies['Age'].isna()] = 'Others'"
   ]
  },
  {
   "cell_type": "code",
   "execution_count": null,
   "id": "da0aea2b",
   "metadata": {},
   "outputs": [],
   "source": [
    "# Replace the missing values in the directors, genres, country and language with others\n",
    "movies['Directors'][movies['Directors'].isna()] = \"Others\"\n",
    "\n",
    "movies['Genres'][movies['Genres'].isna()] = \"Others\"\n",
    "\n",
    "movies['Country'][movies['Country'].isna()] = \"Others\"\n",
    "\n",
    "movies['Language'][movies['Language'].isna()] = \"Others\"\n",
    "\n",
    "# View the DataFrame\n",
    "movies"
   ]
  },
  {
   "cell_type": "code",
   "execution_count": null,
   "id": "62060592",
   "metadata": {},
   "outputs": [],
   "source": [
    "# Missing values for IMDb and Rotten Tomatoes\n",
    "print(movies['IMDb'].isnull().sum())\n",
    "\n",
    "print(movies['Rotten Tomatoes'].isnull().sum())"
   ]
  },
  {
   "cell_type": "code",
   "execution_count": null,
   "id": "1f46797f",
   "metadata": {},
   "outputs": [],
   "source": [
    "# Replace missing values with mean\n",
    "movies['IMDb'].fillna(movies['IMDb'].mean(),inplace=True)\n",
    "\n",
    "movies['Rotten Tomatoes'].fillna(movies['Rotten Tomatoes'].mean(),inplace=True)"
   ]
  },
  {
   "cell_type": "code",
   "execution_count": null,
   "id": "69d8d61d",
   "metadata": {},
   "outputs": [],
   "source": [
    "# View the missing values for IMDb and Rotten Tomatoes\n",
    "print(movies['IMDb'].isnull().sum())\n",
    "\n",
    "print(movies['Rotten Tomatoes'].isnull().sum())"
   ]
  },
  {
   "cell_type": "code",
   "execution_count": null,
   "id": "80fdc4ad",
   "metadata": {},
   "outputs": [],
   "source": [
    "# Import the ott data set.\n",
    "ott = pd.read_csv('ott.csv')\n",
    "\n",
    "# View the DataFrame.\n",
    "ott.head()"
   ]
  },
  {
   "cell_type": "code",
   "execution_count": null,
   "id": "8fb53154",
   "metadata": {},
   "outputs": [],
   "source": [
    "# Validate the data types.\n",
    "print(movies.dtypes)\n",
    "print(ott.dtypes)"
   ]
  },
  {
   "cell_type": "code",
   "execution_count": null,
   "id": "e8c8cb90",
   "metadata": {},
   "outputs": [],
   "source": [
    "# Determine the column names.\n",
    "print(list(movies.columns))\n",
    "print(list(ott.columns))"
   ]
  },
  {
   "cell_type": "code",
   "execution_count": null,
   "id": "fc6dfbcd",
   "metadata": {},
   "outputs": [],
   "source": [
    "# Filter the DataFrame according to numeric variables.\n",
    "movies_num = movies.select_dtypes('number')\n",
    "\n",
    "\n",
    "movies_num \n",
    "# = movies_num.drop('Year', axis = 1)"
   ]
  },
  {
   "cell_type": "code",
   "execution_count": null,
   "id": "5f2545a7",
   "metadata": {},
   "outputs": [],
   "source": [
    "movies_num = movies_num.drop('Year', axis = 1)\n",
    "movies_num"
   ]
  },
  {
   "cell_type": "code",
   "execution_count": null,
   "id": "381dc96a",
   "metadata": {},
   "outputs": [],
   "source": [
    "# Calculate Q1 and Q3.\n",
    "Q1 = movies_num.quantile(0.25)\n",
    "Q3 = movies_num.quantile(0.75)\n",
    "\n",
    "# View the output\n",
    "print(Q1)\n",
    "print(Q3)"
   ]
  },
  {
   "cell_type": "code",
   "execution_count": null,
   "id": "ab008867",
   "metadata": {},
   "outputs": [],
   "source": [
    "# Calculate the IQR.\n",
    "IQR = Q3 - Q1\n",
    "\n",
    "# View the output.\n",
    "print(IQR)"
   ]
  },
  {
   "cell_type": "code",
   "execution_count": null,
   "id": "2c420241",
   "metadata": {},
   "outputs": [],
   "source": [
    "# Determine the descriptive statistics.\n",
    "movies_num.describe()"
   ]
  }
 ],
 "metadata": {
  "kernelspec": {
   "display_name": "Python 3 (ipykernel)",
   "language": "python",
   "name": "python3"
  },
  "language_info": {
   "codemirror_mode": {
    "name": "ipython",
    "version": 3
   },
   "file_extension": ".py",
   "mimetype": "text/x-python",
   "name": "python",
   "nbconvert_exporter": "python",
   "pygments_lexer": "ipython3",
   "version": "3.9.12"
  }
 },
 "nbformat": 4,
 "nbformat_minor": 5
}
