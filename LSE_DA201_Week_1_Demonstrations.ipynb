{
 "cells": [
  {
   "cell_type": "markdown",
   "id": "1a64ea10",
   "metadata": {},
   "source": [
    "# LSE Data Analytics Online Career Accelerator \n",
    "\n",
    "# DA201:  Data Analytics using Python"
   ]
  },
  {
   "cell_type": "markdown",
   "id": "1dbdb90d",
   "metadata": {},
   "source": [
    "## Week 1: Introduction to Python programming!"
   ]
  },
  {
   "cell_type": "markdown",
   "id": "a24170c4",
   "metadata": {},
   "source": [
    "The focus this week is on introducing, setting up, and exploring Python. You will use this notebook to follow along with the demonstrations throughout the week. If you are using Jupyter Notebook for the first time, please refer to the documentation to lear about the interface and how best to use your notebook. \n",
    "\n",
    "Learn about using your Jupyter Notebook here: https://jupyter-notebook.readthedocs.io/en/latest/ui_components.html\n",
    "\n",
    "This is your notebook. Use it to follow along with the demonstrations, test ideas and explore what is possible. The hands-on experience of writing your own code will accelerate your learning!"
   ]
  },
  {
   "cell_type": "markdown",
   "id": "11cfebf7",
   "metadata": {},
   "source": [
    "### 1.1 Python for data analysis "
   ]
  },
  {
   "cell_type": "markdown",
   "id": "f04b9be3",
   "metadata": {},
   "source": [
    "There are no Jupyter Notebook demonstrations in this section."
   ]
  },
  {
   "cell_type": "markdown",
   "id": "ca098172",
   "metadata": {},
   "source": [
    "# "
   ]
  },
  {
   "cell_type": "markdown",
   "id": "4dd362eb",
   "metadata": {},
   "source": [
    "### 1.2 Basics of Python programming"
   ]
  },
  {
   "cell_type": "code",
   "execution_count": 1,
   "id": "05c6b44b",
   "metadata": {},
   "outputs": [
    {
     "name": "stdout",
     "output_type": "stream",
     "text": [
      "<class 'int'>\n",
      "<class 'float'>\n"
     ]
    }
   ],
   "source": [
    "# Integer vs float data types.\n",
    "value_a = 1299\n",
    "value_b = 10.29\n",
    "\n",
    "print(type(value_a))\n",
    "print(type(value_b))"
   ]
  },
  {
   "cell_type": "code",
   "execution_count": 4,
   "id": "ca05fefd",
   "metadata": {},
   "outputs": [
    {
     "name": "stdout",
     "output_type": "stream",
     "text": [
      "<class 'str'>\n",
      "<class 'str'>\n"
     ]
    }
   ],
   "source": [
    "# String data type.\n",
    "a = \"This is a string value\"\n",
    "b = 'This is a string with single quotes'\n",
    "\n",
    "print(type(a))\n",
    "print(type(b))"
   ]
  },
  {
   "cell_type": "code",
   "execution_count": 5,
   "id": "07198d41",
   "metadata": {},
   "outputs": [
    {
     "name": "stdout",
     "output_type": "stream",
     "text": [
      "<class 'bool'>\n",
      "<class 'bool'>\n"
     ]
    }
   ],
   "source": [
    "# Boolean data type.\n",
    "a = True\n",
    "b = False\n",
    "\n",
    "print(type(a))\n",
    "print(type(b))"
   ]
  },
  {
   "cell_type": "code",
   "execution_count": 6,
   "id": "36fd6c83",
   "metadata": {},
   "outputs": [
    {
     "name": "stdout",
     "output_type": "stream",
     "text": [
      "300\n"
     ]
    }
   ],
   "source": [
    "# Create a variable.\n",
    "n = 300\n",
    "\n",
    "# View the variable with the print() function.\n",
    "print(n)"
   ]
  },
  {
   "cell_type": "code",
   "execution_count": 7,
   "id": "ae9dde08",
   "metadata": {},
   "outputs": [
    {
     "name": "stdout",
     "output_type": "stream",
     "text": [
      "100 100.05 Soni\n"
     ]
    }
   ],
   "source": [
    "# Create three variables.Integer, float and string\n",
    "var_a = 100 \n",
    "var_b = 100.05 \n",
    "name = 'Soni' \n",
    "\n",
    "print(var_a, var_b, name)"
   ]
  },
  {
   "cell_type": "code",
   "execution_count": 8,
   "id": "de454ad3",
   "metadata": {},
   "outputs": [
    {
     "name": "stdout",
     "output_type": "stream",
     "text": [
      "100\n",
      "100.05\n",
      "Soni\n"
     ]
    }
   ],
   "source": [
    "# Print a single variable.\n",
    "print(var_a)\n",
    "print(var_b)\n",
    "print(name)"
   ]
  },
  {
   "cell_type": "code",
   "execution_count": 9,
   "id": "a1cb3e1a",
   "metadata": {},
   "outputs": [
    {
     "name": "stdout",
     "output_type": "stream",
     "text": [
      "50\n",
      "50\n",
      "50\n",
      "50 50 50\n"
     ]
    }
   ],
   "source": [
    "# Assign same value to multiple variables.\n",
    "a = b = c = 50 \n",
    "\n",
    "print(a)\n",
    "print(b)\n",
    "print(c)\n",
    "print(a, b, c)"
   ]
  },
  {
   "cell_type": "code",
   "execution_count": 10,
   "id": "1dfbf2c6",
   "metadata": {},
   "outputs": [
    {
     "name": "stdout",
     "output_type": "stream",
     "text": [
      "50\n",
      "50\n",
      "50\n",
      "50 50 50\n"
     ]
    },
    {
     "ename": "TypeError",
     "evalue": "cannot unpack non-iterable int object",
     "output_type": "error",
     "traceback": [
      "\u001b[1;31m---------------------------------------------------------------------------\u001b[0m",
      "\u001b[1;31mTypeError\u001b[0m                                 Traceback (most recent call last)",
      "Input \u001b[1;32mIn [10]\u001b[0m, in \u001b[0;36m<cell line: 10>\u001b[1;34m()\u001b[0m\n\u001b[0;32m      7\u001b[0m \u001b[38;5;28mprint\u001b[39m(a, b, c)\n\u001b[0;32m      9\u001b[0m \u001b[38;5;66;03m# Stipulate a single value.\u001b[39;00m\n\u001b[1;32m---> 10\u001b[0m a, b, c \u001b[38;5;241m=\u001b[39m \u001b[38;5;241m50\u001b[39m\n\u001b[0;32m     12\u001b[0m \u001b[38;5;28mprint\u001b[39m(a, b, c)\n",
      "\u001b[1;31mTypeError\u001b[0m: cannot unpack non-iterable int object"
     ]
    }
   ],
   "source": [
    "# Assign multiple values to multiple variables.\n",
    "a, b, c = 50, 50, 50 \n",
    "\n",
    "print(a)\n",
    "print(b)\n",
    "print(c)\n",
    "print(a, b, c)\n",
    "\n",
    "# Stipulate a single value.\n",
    "a, b, c = 50\n",
    "\n",
    "print(a, b, c)"
   ]
  },
  {
   "cell_type": "code",
   "execution_count": 11,
   "id": "18d5f53f",
   "metadata": {},
   "outputs": [
    {
     "name": "stdout",
     "output_type": "stream",
     "text": [
      "5 50.25 Python\n",
      "5\n",
      "50.25\n",
      "Python\n"
     ]
    }
   ],
   "source": [
    "# Multiple variables with different values and data types.\n",
    "a, b, c = 5, 50.25, \"Python\"\n",
    "\n",
    "print(a, b, c)\n",
    "print(a)\n",
    "print(b)\n",
    "print(c)"
   ]
  },
  {
   "cell_type": "code",
   "execution_count": 13,
   "id": "10356624",
   "metadata": {},
   "outputs": [
    {
     "name": "stdout",
     "output_type": "stream",
     "text": [
      "['False', 'None', 'True', '__peg_parser__', 'and', 'as', 'assert', 'async', 'await', 'break', 'class', 'continue', 'def', 'del', 'elif', 'else', 'except', 'finally', 'for', 'from', 'global', 'if', 'import', 'in', 'is', 'lambda', 'nonlocal', 'not', 'or', 'pass', 'raise', 'return', 'try', 'while', 'with', 'yield']\n"
     ]
    }
   ],
   "source": [
    "# View the list of keywords.\n",
    "import keyword\n",
    "print(keyword.kwlist)"
   ]
  },
  {
   "cell_type": "code",
   "execution_count": 15,
   "id": "d18daef3",
   "metadata": {},
   "outputs": [
    {
     "name": "stdout",
     "output_type": "stream",
     "text": [
      "jedi warrior saviour\n"
     ]
    }
   ],
   "source": [
    "#Apply knowledge, Question 1\n",
    "a, b, c = \"jedi\",\"warrior\",'saviour'\n",
    "print(a,b,c)"
   ]
  },
  {
   "cell_type": "code",
   "execution_count": 16,
   "id": "2a1ac499",
   "metadata": {},
   "outputs": [
    {
     "name": "stdout",
     "output_type": "stream",
     "text": [
      "Luke Skywalker\n",
      "Luke Skywalker\n",
      "Luke Skywalker\n",
      "Luke Skywalker Luke Skywalker Luke Skywalker\n"
     ]
    }
   ],
   "source": [
    "# Question 1:\n",
    "jedi = warrior = saviour = 'Luke Skywalker'\n",
    "\n",
    "print(jedi)\n",
    "print(warrior)\n",
    "print(saviour)\n",
    "print(jedi, warrior, saviour)"
   ]
  },
  {
   "cell_type": "code",
   "execution_count": 17,
   "id": "8c369c33",
   "metadata": {},
   "outputs": [
    {
     "name": "stdout",
     "output_type": "stream",
     "text": [
      "villain enemy black\n"
     ]
    }
   ],
   "source": [
    "# Question 2: This time I used different spacing not sure of PEP?\n",
    "a,b,c = \"villain\",'enemy','black'\n",
    "print(a,b,c)"
   ]
  },
  {
   "cell_type": "code",
   "execution_count": 19,
   "id": "7d9154ab",
   "metadata": {
    "scrolled": true
   },
   "outputs": [
    {
     "name": "stdout",
     "output_type": "stream",
     "text": [
      "Darth Vader\n",
      "Darth Vader\n",
      "Darth Vader\n",
      "Darth Vader Darth Vader Darth Vader\n"
     ]
    }
   ],
   "source": [
    "# Question 2: \n",
    "a,b,c = \"villain\",'enemy','black'\n",
    "a = b = c = 'Darth Vader'\n",
    "print(a)\n",
    "print(b)\n",
    "print(c)\n",
    "print(a,b,c)"
   ]
  },
  {
   "cell_type": "markdown",
   "id": "19a75485",
   "metadata": {},
   "source": [
    "# "
   ]
  },
  {
   "cell_type": "code",
   "execution_count": 1,
   "id": "7fd68a45",
   "metadata": {},
   "outputs": [
    {
     "name": "stdout",
     "output_type": "stream",
     "text": [
      "Regina\n",
      "Hawaiian\n",
      "Mexican\n",
      "Margarita\n",
      "Marinara\n"
     ]
    }
   ],
   "source": [
    "# Create a list with all the pizza names.\n",
    "pizza = ['Regina', 'Hawaiian', 'Mexican', 'Margarita', 'Marinara']\n",
    "\n",
    "# Print all the pizza names.\n",
    "for i in pizza:\n",
    "    print(i)"
   ]
  },
  {
   "cell_type": "code",
   "execution_count": 2,
   "id": "0efac6d4",
   "metadata": {},
   "outputs": [
    {
     "data": {
      "text/plain": [
       "' This is the method of writing comments inside triple quotations.\\nAny lines between these triple quotations are treated as comments. '"
      ]
     },
     "execution_count": 2,
     "metadata": {},
     "output_type": "execute_result"
    }
   ],
   "source": [
    "\"\"\" This is the method of writing comments inside triple quotations.\n",
    "Any lines between these triple quotations are treated as comments. \"\"\""
   ]
  },
  {
   "cell_type": "code",
   "execution_count": 3,
   "id": "02d454b0",
   "metadata": {},
   "outputs": [
    {
     "name": "stdout",
     "output_type": "stream",
     "text": [
      "15\n"
     ]
    }
   ],
   "source": [
    "# Operators - assignment, similar to arithmetic where print (a + b)\n",
    "# Demonstrating the + operator.\n",
    "a = 10\n",
    "a += 5\n",
    "\n",
    "print(a)\n"
   ]
  },
  {
   "cell_type": "code",
   "execution_count": 4,
   "id": "2af4b977",
   "metadata": {},
   "outputs": [
    {
     "name": "stdout",
     "output_type": "stream",
     "text": [
      "5\n"
     ]
    }
   ],
   "source": [
    "# Demonstrating the - operator.\n",
    "a = 10\n",
    "a -= 5\n",
    "print(a)"
   ]
  },
  {
   "cell_type": "code",
   "execution_count": 35,
   "id": "2fe180f9",
   "metadata": {},
   "outputs": [
    {
     "name": "stdout",
     "output_type": "stream",
     "text": [
      "4\n"
     ]
    }
   ],
   "source": [
    "# Demonstrating the // operator. Floor division ! division to integer.\n",
    "a = 20\n",
    "a //= 5\n",
    "\n",
    "print(a)"
   ]
  },
  {
   "cell_type": "code",
   "execution_count": 40,
   "id": "af685a2f",
   "metadata": {},
   "outputs": [
    {
     "name": "stdout",
     "output_type": "stream",
     "text": [
      "1\n"
     ]
    }
   ],
   "source": [
    "# Demonstrating the % operator. Modulus ! changes value to what is left after division to integer.\n",
    "a = 11\n",
    "a %= 5\n",
    "\n",
    "print(a)"
   ]
  },
  {
   "cell_type": "code",
   "execution_count": 46,
   "id": "713655af",
   "metadata": {},
   "outputs": [
    {
     "name": "stdout",
     "output_type": "stream",
     "text": [
      "Either number is greater than 0.\n"
     ]
    }
   ],
   "source": [
    "# Demonstrating the 'or' operator.\n",
    "a = 0\n",
    "b = 2\n",
    "\n",
    "if a > 0 or b > 0:\n",
    "    print(\"Either number is greater than 0.\")\n",
    "    \n",
    "else:\n",
    "    print(\"No number is greater than 0.\")"
   ]
  },
  {
   "cell_type": "code",
   "execution_count": 52,
   "id": "334c267c",
   "metadata": {},
   "outputs": [
    {
     "name": "stdout",
     "output_type": "stream",
     "text": [
      "No\n"
     ]
    }
   ],
   "source": [
    "# Demonstrating the 'not' operator.\n",
    "x = 11\n",
    "\n",
    "if not (x > 10):\n",
    "    print('Yes')\n",
    "else:\n",
    "    print('No')"
   ]
  },
  {
   "cell_type": "code",
   "execution_count": 49,
   "id": "3b3d3209",
   "metadata": {},
   "outputs": [
    {
     "name": "stdout",
     "output_type": "stream",
     "text": [
      "False\n"
     ]
    }
   ],
   "source": [
    "# Demonstrating the 'in' operator.\n",
    "x = ['cat', 'dog']\n",
    "\n",
    "print('mouse' in x)"
   ]
  },
  {
   "cell_type": "code",
   "execution_count": 50,
   "id": "b7629344",
   "metadata": {},
   "outputs": [
    {
     "name": "stdout",
     "output_type": "stream",
     "text": [
      "True\n"
     ]
    }
   ],
   "source": [
    "# Demonstrating the 'not in' operator.\n",
    "x = ['cat', 'dog']\n",
    "\n",
    "print('Monkey' not in x)"
   ]
  },
  {
   "cell_type": "code",
   "execution_count": 53,
   "id": "53a6b82a",
   "metadata": {},
   "outputs": [
    {
     "name": "stdout",
     "output_type": "stream",
     "text": [
      "Hello and welcome to the programme\n"
     ]
    }
   ],
   "source": [
    "# Define a function to welcome new members to the programme.\n",
    "# No arguments in the parenthesis, include the colon.\n",
    "def new_member():\n",
    "    # The function code statement.\n",
    "    print(\"Hello and welcome to the programme\") \n",
    "\n",
    "# Call the function.\n",
    "new_member()"
   ]
  },
  {
   "cell_type": "code",
   "execution_count": 54,
   "id": "1880f993",
   "metadata": {},
   "outputs": [
    {
     "name": "stdout",
     "output_type": "stream",
     "text": [
      "Hello and welcome to the programme\n"
     ]
    },
    {
     "data": {
      "text/plain": [
       "True"
      ]
     },
     "execution_count": 54,
     "metadata": {},
     "output_type": "execute_result"
    }
   ],
   "source": [
    "# Define an output variable.\n",
    "output = new_member()\n",
    "\n",
    "# Check if the function returns a value.\n",
    "output is None"
   ]
  },
  {
   "cell_type": "code",
   "execution_count": 55,
   "id": "18843217",
   "metadata": {},
   "outputs": [
    {
     "data": {
      "text/plain": [
       "False"
      ]
     },
     "execution_count": 55,
     "metadata": {},
     "output_type": "execute_result"
    }
   ],
   "source": [
    "# Assign the function output to a variable.\n",
    "# Function must return explicitly. Return used instead of print.\n",
    "def new_member(): \n",
    "    return \"Hello and welcome to the programme\"\n",
    "\n",
    "# Define an output variable.\n",
    "output = new_member()\n",
    "\n",
    "# Check if the function returns a value.\n",
    "output is None"
   ]
  },
  {
   "cell_type": "code",
   "execution_count": 57,
   "id": "d995501a",
   "metadata": {},
   "outputs": [
    {
     "name": "stdout",
     "output_type": "stream",
     "text": [
      "Hello and welcome to the program, Sarah!\n"
     ]
    }
   ],
   "source": [
    "# Example using f-string interpolation.\n",
    "def new_member(name): \n",
    "    # Notice the \"f\".\n",
    "    return f\"Hello and welcome to the program, {name}!\" \n",
    "\n",
    "# The print function allows you to easily preview the output.\n",
    "print(new_member('Sarah'))"
   ]
  },
  {
   "cell_type": "code",
   "execution_count": 59,
   "id": "2f7e6f29",
   "metadata": {},
   "outputs": [
    {
     "data": {
      "text/plain": [
       "9"
      ]
     },
     "execution_count": 59,
     "metadata": {},
     "output_type": "execute_result"
    }
   ],
   "source": [
    "# Example of adding two positional arguments.\n",
    "def add_optional_bonus(a, b, c=0, d=0):\n",
    "    return a + b + c + d\n",
    "\n",
    "add_optional_bonus(5, 6)"
   ]
  },
  {
   "cell_type": "code",
   "execution_count": 60,
   "id": "2c73613f",
   "metadata": {},
   "outputs": [
    {
     "data": {
      "text/plain": [
       "16"
      ]
     },
     "execution_count": 60,
     "metadata": {},
     "output_type": "execute_result"
    }
   ],
   "source": [
    "# Rxample of adding two positional arguments and a keyword argument.\n",
    "def add_optional_bonus(a, b, c=0, d=0):\n",
    "    return a + b + c + d\n",
    "\n",
    "# Include the keyword c\n",
    "add_optional_bonus(5, 6, c=5)"
   ]
  },
  {
   "cell_type": "code",
   "execution_count": 68,
   "id": "8ed3af85",
   "metadata": {},
   "outputs": [
    {
     "name": "stdout",
     "output_type": "stream",
     "text": [
      "6 7 8\n"
     ]
    }
   ],
   "source": [
    "# Returning multiple values\n",
    "def membership_number(x):\n",
    "    a = x + 1\n",
    "    b = x + 2\n",
    "    c = x + 3\n",
    "    return a, b, c\n",
    "\n",
    "# To show the membership numbers\n",
    "x, y, z = membership_number(5) \n",
    "\n",
    "print(x, y, z)"
   ]
  },
  {
   "cell_type": "code",
   "execution_count": 69,
   "id": "ed9f54b0",
   "metadata": {},
   "outputs": [
    {
     "name": "stdout",
     "output_type": "stream",
     "text": [
      "Total weekly workout time is 40 minutes.\n",
      "Total weekly workout time is 3.0 hours.\n"
     ]
    }
   ],
   "source": [
    "# Using the * for a variable argument.\n",
    "def workout_time(*reported):\n",
    "    total_minutes = sum(reported) \n",
    "    if total_minutes < 60:\n",
    "        return f\"Total weekly workout time is {total_minutes} minutes.\"\n",
    "    else: \n",
    "        return f\"Total weekly workout time is {total_minutes/60} hours.\" \n",
    "\n",
    "# The function passes any number of minutes.\n",
    "print(workout_time(10, 10, 20))\n",
    "\n",
    "# The function passes any number of minutes.\n",
    "print(workout_time(60, 60, 20, 40))"
   ]
  },
  {
   "cell_type": "code",
   "execution_count": 73,
   "id": "86506ce4",
   "metadata": {},
   "outputs": [
    {
     "name": "stdout",
     "output_type": "stream",
     "text": [
      "['Python', 'Java', 'Ruby']\n"
     ]
    }
   ],
   "source": [
    "# Practice with lists.\n",
    "new_list = ['Python','Java','Ruby']\n",
    "print (new_list)\n"
   ]
  },
  {
   "cell_type": "code",
   "execution_count": 77,
   "id": "36dd920f",
   "metadata": {},
   "outputs": [
    {
     "name": "stdout",
     "output_type": "stream",
     "text": [
      "['cat', 12, 15.2]\n"
     ]
    }
   ],
   "source": [
    "# List can also store different data types such as strings, integers, and float.\n",
    "list_2 = ['cat', 12, 15.2]\n",
    "print (list_2)"
   ]
  },
  {
   "cell_type": "code",
   "execution_count": 82,
   "id": "d261232b",
   "metadata": {},
   "outputs": [
    {
     "name": "stdout",
     "output_type": "stream",
     "text": [
      "['apple', 'banana', 5, 2, 5, 10.2, 8, 10.2, 'banana', 'apple']\n"
     ]
    }
   ],
   "source": [
    "# Example of a list with duplicates.\n",
    "list_a = ['apple', 'banana', 5, 2, 5, 10.2, 8, 10.2, 'banana', 'apple']\n",
    "print(list_a)"
   ]
  },
  {
   "cell_type": "code",
   "execution_count": 83,
   "id": "d0559620",
   "metadata": {},
   "outputs": [
    {
     "name": "stdout",
     "output_type": "stream",
     "text": [
      "['apple', 'banana', 5, 2, 10.2, 8.3, ['apple', 'banana', 5, 2, 10.2, 8.3]]\n"
     ]
    }
   ],
   "source": [
    "# Example of a list with duplicate items.\n",
    "list_a = ['apple', 'banana', 5, 2, 10.2, 8.3, ['apple', 'banana', 5, 2, 10.2, 8.3]]\n",
    "\n",
    "print(list_a)"
   ]
  },
  {
   "cell_type": "code",
   "execution_count": 84,
   "id": "aff5b9a9",
   "metadata": {},
   "outputs": [
    {
     "data": {
      "text/plain": [
       "7"
      ]
     },
     "execution_count": 84,
     "metadata": {},
     "output_type": "execute_result"
    }
   ],
   "source": [
    "len(list_a)"
   ]
  },
  {
   "cell_type": "code",
   "execution_count": 90,
   "id": "189e97bc",
   "metadata": {},
   "outputs": [
    {
     "data": {
      "text/plain": [
       "9"
      ]
     },
     "execution_count": 90,
     "metadata": {},
     "output_type": "execute_result"
    }
   ],
   "source": [
    "# Create a list of planets.\n",
    "list_planets = ['Mercury', 'Mars', 'Earth', 'Venus', 'Jupiter', 'Saturn', 'Uranus','Neptune','Pluto']\n",
    "# print (list_planets)\n",
    "len(list_planets)"
   ]
  },
  {
   "cell_type": "code",
   "execution_count": 96,
   "id": "7b0227d7",
   "metadata": {
    "scrolled": true
   },
   "outputs": [
    {
     "ename": "IndexError",
     "evalue": "pop index out of range",
     "output_type": "error",
     "traceback": [
      "\u001b[1;31m---------------------------------------------------------------------------\u001b[0m",
      "\u001b[1;31mIndexError\u001b[0m                                Traceback (most recent call last)",
      "Input \u001b[1;32mIn [96]\u001b[0m, in \u001b[0;36m<cell line: 2>\u001b[1;34m()\u001b[0m\n\u001b[0;32m      1\u001b[0m \u001b[38;5;66;03m# Remove Pluto\u001b[39;00m\n\u001b[1;32m----> 2\u001b[0m \u001b[43mlist_planets\u001b[49m\u001b[38;5;241;43m.\u001b[39;49m\u001b[43mpop\u001b[49m\u001b[43m(\u001b[49m\u001b[38;5;241;43m8\u001b[39;49m\u001b[43m)\u001b[49m\n\u001b[0;32m      3\u001b[0m \u001b[38;5;28mprint\u001b[39m (list_planets)\n",
      "\u001b[1;31mIndexError\u001b[0m: pop index out of range"
     ]
    }
   ],
   "source": [
    "# Remove Pluto\n",
    "list_planets.pop(8)\n",
    "print (list_planets)"
   ]
  },
  {
   "cell_type": "code",
   "execution_count": 103,
   "id": "f478e499",
   "metadata": {},
   "outputs": [
    {
     "name": "stdout",
     "output_type": "stream",
     "text": [
      "['Mercury', 'Mars', 'Earth', 'Venus', 'Jupiter', 'Saturn', 'Uranus', 'Neptune', 'Pluto']\n"
     ]
    }
   ],
   "source": [
    "print (list_planets)"
   ]
  },
  {
   "cell_type": "code",
   "execution_count": 104,
   "id": "9bc9f7e4",
   "metadata": {},
   "outputs": [
    {
     "data": {
      "text/plain": [
       "9"
      ]
     },
     "execution_count": 104,
     "metadata": {},
     "output_type": "execute_result"
    }
   ],
   "source": [
    "# Measure lenght of the list.\n",
    "len(list_planets)"
   ]
  },
  {
   "cell_type": "code",
   "execution_count": 102,
   "id": "b9e70a9d",
   "metadata": {},
   "outputs": [],
   "source": [
    "# Add a new planet.\n",
    "list_planets.append('Pluto')\n",
    "#Then go back to line 103 and 104 and review changes."
   ]
  },
  {
   "cell_type": "code",
   "execution_count": 117,
   "id": "321983b6",
   "metadata": {},
   "outputs": [
    {
     "name": "stdout",
     "output_type": "stream",
     "text": [
      "['Mercury', 'Mars', 'Earth', 'Venus', 'New', 'New', 'Jupiter', 'Saturn', 'Uranus', 'Neptune', 'Pluto', 'Pluto2', 'Pluto2', 'Pluto2']\n",
      "14\n"
     ]
    }
   ],
   "source": [
    "print(list_planets)\n",
    "print(len(list_planets))"
   ]
  },
  {
   "cell_type": "code",
   "execution_count": 116,
   "id": "0a7888f0",
   "metadata": {},
   "outputs": [],
   "source": [
    "# Use insert.\n",
    "list_planets.insert(4,'New')"
   ]
  },
  {
   "cell_type": "code",
   "execution_count": 114,
   "id": "ce9b44de",
   "metadata": {},
   "outputs": [],
   "source": [
    "# Use extend.\n",
    "pluto2 = ['Pluto2']\n",
    "# Second list is appended.\n",
    "list_planets.extend(pluto2)"
   ]
  },
  {
   "cell_type": "code",
   "execution_count": 125,
   "id": "76a8e316",
   "metadata": {},
   "outputs": [],
   "source": [
    "# Use remove.\n",
    "list_planets.remove('Pluto')"
   ]
  },
  {
   "cell_type": "code",
   "execution_count": 130,
   "id": "6060e78c",
   "metadata": {},
   "outputs": [
    {
     "name": "stdout",
     "output_type": "stream",
     "text": [
      "['Mercury', 'Mars', 'Earth', 'Venus', 'Jupiter', 'Saturn', 'Uranus', 'Neptune']\n",
      "8\n"
     ]
    }
   ],
   "source": [
    "print(list_planets)\n",
    "print(len(list_planets))"
   ]
  },
  {
   "cell_type": "code",
   "execution_count": 129,
   "id": "15f34125",
   "metadata": {},
   "outputs": [
    {
     "data": {
      "text/plain": [
       "'New'"
      ]
     },
     "execution_count": 129,
     "metadata": {},
     "output_type": "execute_result"
    }
   ],
   "source": [
    "# Use pop.\n",
    "list_planets.pop(4)"
   ]
  },
  {
   "cell_type": "code",
   "execution_count": 131,
   "id": "0faf2699",
   "metadata": {},
   "outputs": [
    {
     "name": "stdout",
     "output_type": "stream",
     "text": [
      "['apple', 'strawberry', 'pear', 'raspberry', 'apricot', 'peach', 'fig', 'plum']\n",
      "8\n"
     ]
    }
   ],
   "source": [
    "# Create 2 lists and add them.\n",
    "fruit_1 = ['apple', 'strawberry', 'pear', 'raspberry']\n",
    "fruit_2 = ['apricot', 'peach', 'fig', 'plum']\n",
    "\n",
    "# Join the two lists with the + operator.\n",
    "fruit = fruit_1 + fruit_2\n",
    "\n",
    "print(fruit)\n",
    "print(len(fruit))"
   ]
  },
  {
   "cell_type": "code",
   "execution_count": 132,
   "id": "b31d7c95",
   "metadata": {},
   "outputs": [
    {
     "name": "stdout",
     "output_type": "stream",
     "text": [
      "['carrot', 'lettuce', 'spinach', 'pumpkin', 'onion', 'cabbage', 'broccoli', 'asparagus']\n",
      "8\n"
     ]
    }
   ],
   "source": [
    "# Create a list.\n",
    "veg = ['carrot', 'lettuce', 'spinach', 'pumpkin']\n",
    "\n",
    "# Add another list with the extend operator.\n",
    "# Notice the square brackets.\n",
    "veg.extend(['onion', 'cabbage', 'broccoli', 'asparagus'])\n",
    "\n",
    "print(veg)\n",
    "print(len(veg))"
   ]
  },
  {
   "cell_type": "code",
   "execution_count": 133,
   "id": "2e72ca2d",
   "metadata": {},
   "outputs": [
    {
     "name": "stdout",
     "output_type": "stream",
     "text": [
      "['red', 'yellow', 'orange', 'pink', ['blue', 'green', 'black', 'purple']]\n",
      "5\n"
     ]
    }
   ],
   "source": [
    "# Create a list.\n",
    "colour = ['red', 'yellow', 'orange', 'pink']\n",
    "\n",
    "# Add another list with the append.\n",
    "# Notice the square brackets.\n",
    "colour.append(['blue', 'green', 'black', 'purple'])\n",
    "\n",
    "print(colour)\n",
    "print(len(colour))"
   ]
  },
  {
   "cell_type": "code",
   "execution_count": 136,
   "id": "4c56b2bf",
   "metadata": {},
   "outputs": [
    {
     "name": "stdout",
     "output_type": "stream",
     "text": [
      "['asparagus', 'broccoli', 'cabbage', 'carrot', 'lettuce', 'onion', 'pumpkin', 'spinach']\n"
     ]
    }
   ],
   "source": [
    "# Use sort.\n",
    "veg.sort()\n",
    "print(veg)"
   ]
  },
  {
   "cell_type": "code",
   "execution_count": 138,
   "id": "a733c820",
   "metadata": {},
   "outputs": [
    {
     "name": "stdout",
     "output_type": "stream",
     "text": [
      "['spinach', 'pumpkin', 'onion', 'lettuce', 'carrot', 'cabbage', 'broccoli', 'asparagus']\n"
     ]
    }
   ],
   "source": [
    "# Sort reverse.\n",
    "veg.sort(reverse = True)\n",
    "print(veg)"
   ]
  },
  {
   "cell_type": "code",
   "execution_count": 139,
   "id": "7e9b6af6",
   "metadata": {},
   "outputs": [
    {
     "name": "stdout",
     "output_type": "stream",
     "text": [
      "['spinach', 'pumpkin', 'onion', 'lettuce', 'carrot', 'cabbage', 'broccoli', 'asparagus']\n"
     ]
    },
    {
     "data": {
      "text/plain": [
       "['onion', 'lettuce', 'carrot', 'cabbage']"
      ]
     },
     "execution_count": 139,
     "metadata": {},
     "output_type": "execute_result"
    }
   ],
   "source": [
    "# Print original list.\n",
    "print(veg)\n",
    "\n",
    "# Example of selecting a range of elements.\n",
    "# Slicing with index position is inclusive of start index position.\n",
    "# Slicing with index position is exclusive of the stop index position.\n",
    "# In the example 2:6 the elements from index position 2 to 5 are included.\n",
    "# Notice we are not using the print() function.\n",
    "\n",
    "veg[2:6] "
   ]
  },
  {
   "cell_type": "code",
   "execution_count": 140,
   "id": "1585a57a",
   "metadata": {},
   "outputs": [
    {
     "name": "stdout",
     "output_type": "stream",
     "text": [
      "['spinach', 'pumpkin', 'onion', 'lettuce', 'carrot', 'cabbage', 'broccoli', 'asparagus']\n"
     ]
    },
    {
     "data": {
      "text/plain": [
       "['spinach', 'onion', 'carrot', 'broccoli']"
      ]
     },
     "execution_count": 140,
     "metadata": {},
     "output_type": "execute_result"
    }
   ],
   "source": [
    "# Print original list.\n",
    "print(veg)\n",
    "\n",
    "# Example of selecting a range of elements and changing default step parameter.\n",
    "# The syntax is: list name[start index : stop index : step size].\n",
    "# Notice the empty values in the first two spaces? This will use the defaults.\n",
    "\n",
    "veg[::2]"
   ]
  },
  {
   "cell_type": "code",
   "execution_count": 141,
   "id": "5be06a77",
   "metadata": {},
   "outputs": [
    {
     "name": "stdout",
     "output_type": "stream",
     "text": [
      "['spinach', 'pumpkin', 'onion', 'lettuce', 'carrot', 'cabbage', 'broccoli', 'asparagus']\n"
     ]
    },
    {
     "data": {
      "text/plain": [
       "['asparagus', 'cabbage', 'lettuce', 'pumpkin']"
      ]
     },
     "execution_count": 141,
     "metadata": {},
     "output_type": "execute_result"
    }
   ],
   "source": [
    "# Print original list.\n",
    "print(veg)\n",
    "\n",
    "# Example of using a negative index.\n",
    "# Pass -2 to reverse the list.\n",
    "\n",
    "veg[::-2]"
   ]
  },
  {
   "cell_type": "code",
   "execution_count": 142,
   "id": "c55a4b05",
   "metadata": {},
   "outputs": [
    {
     "name": "stdout",
     "output_type": "stream",
     "text": [
      "('Python', 'Java', 'Ruby')\n"
     ]
    },
    {
     "data": {
      "text/plain": [
       "3"
      ]
     },
     "execution_count": 142,
     "metadata": {},
     "output_type": "execute_result"
    }
   ],
   "source": [
    "# Create a tuple.\n",
    "tuple_1 = ('Python', 'Java', 'Ruby')\n",
    "\n",
    "# Print tuple and count length.\n",
    "print(tuple_1)\n",
    "len(tuple_1)"
   ]
  },
  {
   "cell_type": "code",
   "execution_count": 143,
   "id": "2195a782",
   "metadata": {},
   "outputs": [
    {
     "data": {
      "text/plain": [
       "('Venus', 1, 'Mars')"
      ]
     },
     "execution_count": 143,
     "metadata": {},
     "output_type": "execute_result"
    }
   ],
   "source": [
    "# Example of the tuple() constructor. \n",
    "# Notice the round brackets.\n",
    "tup_1 = tuple(['Venus', 1, 'Mars']) \n",
    "\n",
    "tup_1"
   ]
  },
  {
   "cell_type": "code",
   "execution_count": 144,
   "id": "e3686940",
   "metadata": {},
   "outputs": [
    {
     "name": "stdout",
     "output_type": "stream",
     "text": [
      "Java\n"
     ]
    }
   ],
   "source": [
    "# Create a tuple.\n",
    "tuple_1 = ('Python', 'Java', 'Ruby')\n",
    "\n",
    "# Example of indexing.\n",
    "# Note: index position in Python starts at 0.\n",
    "# Locate item at index position 1.\n",
    "tuple_1[1]\n",
    "\n",
    "print(tuple_1[1])"
   ]
  },
  {
   "cell_type": "code",
   "execution_count": 145,
   "id": "5f419d1b",
   "metadata": {},
   "outputs": [
    {
     "name": "stdout",
     "output_type": "stream",
     "text": [
      "4\n",
      "2\n",
      "(4, 5, 6)\n"
     ]
    }
   ],
   "source": [
    "# Example of nesting tuples within tuples.\n",
    "nested_tup = (1, 2, 3, (4, 5, 6))\n",
    "\n",
    "# Print the length of the nested tuple.\n",
    "print(len(nested_tup))\n",
    "\n",
    "# This will show item at index position 1.\n",
    "print(nested_tup[1])\n",
    "\n",
    "# This will show item at index position 3.\n",
    "print(nested_tup[3])"
   ]
  },
  {
   "cell_type": "code",
   "execution_count": 147,
   "id": "784426ad",
   "metadata": {},
   "outputs": [
    {
     "data": {
      "text/plain": [
       "8"
      ]
     },
     "execution_count": 147,
     "metadata": {},
     "output_type": "execute_result"
    }
   ],
   "source": [
    "# Example of the len() function.\n",
    "# Start with a tuple .\n",
    "planets = ('Mercury', 'Venus', 'Earth', 'Mars', 'Jupiter', \n",
    "          'Saturn', 'Uranus', 'Neptune')\n",
    "\n",
    "# Measure the length of the tuple.\n",
    "len(planets)"
   ]
  },
  {
   "cell_type": "code",
   "execution_count": 148,
   "id": "152c9d68",
   "metadata": {},
   "outputs": [
    {
     "name": "stdout",
     "output_type": "stream",
     "text": [
      "('Mercury', 'Venus', 'Earth', 'Mars', 'Jupiter', 'Saturn', 'Uranus', 'Neptune')\n",
      "('Python', 'Java', 'Ruby')\n",
      "('Mercury', 'Venus', 'Earth', 'Mars', 'Jupiter', 'Saturn', 'Uranus', 'Neptune', 'Python', 'Java', 'Ruby')\n",
      "11\n"
     ]
    }
   ],
   "source": [
    "# Original tuples.\n",
    "print(planets)\n",
    "print(tuple_1)\n",
    "\n",
    "# Example of using the + operator.\n",
    "tuple_d = planets + tuple_1\n",
    "\n",
    "# This will show the concatenated tuple.\n",
    "print(tuple_d)\n",
    "print(len(tuple_d))"
   ]
  },
  {
   "cell_type": "code",
   "execution_count": 149,
   "id": "866feb94",
   "metadata": {},
   "outputs": [
    {
     "name": "stdout",
     "output_type": "stream",
     "text": [
      "(1, 2, 3, (4, 5, 6))\n"
     ]
    },
    {
     "data": {
      "text/plain": [
       "(1, 2, 3, (4, 5, 6), 1, 2, 3, (4, 5, 6), 1, 2, 3, (4, 5, 6))"
      ]
     },
     "execution_count": 149,
     "metadata": {},
     "output_type": "execute_result"
    }
   ],
   "source": [
    "# Original tuple.\n",
    "print(nested_tup)\n",
    "\n",
    "# Example of using the * operator.\n",
    "# This will make three copies of the tuple.\n",
    "nested_tup * 3"
   ]
  },
  {
   "cell_type": "code",
   "execution_count": 150,
   "id": "9ac1f6da",
   "metadata": {},
   "outputs": [
    {
     "name": "stdout",
     "output_type": "stream",
     "text": [
      "44\n",
      "1\n"
     ]
    }
   ],
   "source": [
    "# Example of using max() and min().\n",
    "a = (1, 13, 44, 23)\n",
    "\n",
    "# This will show the highest value.\n",
    "print(max(a))\n",
    "\n",
    "# This will show the lowest value.\n",
    "print(min(a))"
   ]
  },
  {
   "cell_type": "code",
   "execution_count": null,
   "id": "f40bda2a",
   "metadata": {},
   "outputs": [],
   "source": [
    "# Example of assigning values to objects.\n",
    "celestial_objects = ('Earth', 'Saturn', 'Pluto')\n",
    "\n",
    "# Notice the sequence.\n",
    "planet, gas_giant, dwarf_planet = celestial_objects\n",
    "\n",
    "# Each of these will output the corresponding object from the tuple.\n",
    "print(planet)\n",
    "print(gas_giant)\n",
    "print(dwarf_planet)\n",
    "print(dwarf_planet, gas_giant, planet)"
   ]
  },
  {
   "cell_type": "code",
   "execution_count": 151,
   "id": "3205a246",
   "metadata": {},
   "outputs": [
    {
     "name": "stdout",
     "output_type": "stream",
     "text": [
      "(1, 2, 'Pluto', [1, 2, 3, 4])\n",
      "4\n"
     ]
    }
   ],
   "source": [
    "# Example of modifying a list within a tuple.\n",
    "tup = (1, 2, 'Pluto', [1, 2, 3])\n",
    "\n",
    "# Identify the index position of the list and make the modification.\n",
    "# Appending 4 to the list.\n",
    "tup[3].append(4)\n",
    "\n",
    "print(tup)\n",
    "print(len(tup))"
   ]
  },
  {
   "cell_type": "code",
   "execution_count": 152,
   "id": "a1d92415",
   "metadata": {},
   "outputs": [
    {
     "name": "stdout",
     "output_type": "stream",
     "text": [
      "(1, 1.1, 5, 5.1, 6.8)\n",
      "5\n",
      "1\n",
      "6.8\n",
      "1\n",
      "5\n"
     ]
    }
   ],
   "source": [
    "# Create a tuple with three different data types.\n",
    "tup_1 = (1, 1.10, 5, 5.1, 6.8)\n",
    "\n",
    "# View the tuple.\n",
    "print(tup_1)\n",
    "\n",
    "# View the length of the tuple.\n",
    "print(len(tup_1))\n",
    "\n",
    "# View the minimum value of the tuple.\n",
    "print(min(tup_1))\n",
    "\n",
    "# View the maximum value of the tuple.\n",
    "print(max(tup_1))\n",
    "\n",
    "# View the first value of the tuple.\n",
    "# Index starts at 0\n",
    "print(tup_1[0])\n",
    "\n",
    "# View the middle value of the tuple.\n",
    "print(tup_1[2])"
   ]
  },
  {
   "cell_type": "markdown",
   "id": "6d436c14",
   "metadata": {},
   "source": [
    "## 1.2.11 Dictionaries"
   ]
  },
  {
   "cell_type": "code",
   "execution_count": 1,
   "id": "2e728429",
   "metadata": {},
   "outputs": [
    {
     "name": "stdout",
     "output_type": "stream",
     "text": [
      "{'key1': 'Name', 'key2': 'Age', 'key3': 1964}\n"
     ]
    }
   ],
   "source": [
    "# Example of the dictionary data structure.\n",
    "# Notice how each key has a value joined by:.\n",
    "# Notice the curly brackets.\n",
    "dict_1 = {'key1': 'Name',\n",
    "         'key2': 'Age',\n",
    "         'key3': 1964} \n",
    "\n",
    "print(dict_1)"
   ]
  },
  {
   "cell_type": "code",
   "execution_count": null,
   "id": "cbc581ca",
   "metadata": {},
   "outputs": [],
   "source": [
    "# Dictionary before edits.\n",
    "print(dict_1)\n",
    "\n",
    "# Add a new key value pair.\n",
    "dict_1['key4'] = 'address'\n",
    "\n",
    "print(dict_1)"
   ]
  },
  {
   "cell_type": "code",
   "execution_count": 4,
   "id": "3304c7b3",
   "metadata": {},
   "outputs": [
    {
     "name": "stdout",
     "output_type": "stream",
     "text": [
      "dict_keys(['key1', 'key2', 'key3'])\n",
      "dict_values(['Name', 'Age', 1964])\n",
      "{'key1': 'Name', 'key2': 'Age', 'key3': 1964}\n"
     ]
    }
   ],
   "source": [
    "# Example of the keys() method.\n",
    "dict_1 = {'key1': 'Name', 'key2': 'Age', 'key3': 1964}\n",
    "\n",
    "# Show keys only.\n",
    "print(dict_1.keys())\n",
    "\n",
    "# Show values only.\n",
    "print(dict_1.values())\n",
    "\n",
    "# Show entire dictionary.\n",
    "print(dict_1)"
   ]
  },
  {
   "cell_type": "code",
   "execution_count": 5,
   "id": "3d4b0e50",
   "metadata": {},
   "outputs": [
    {
     "name": "stdout",
     "output_type": "stream",
     "text": [
      "['key1', 'key2', 'key3', 'key4', 'key5']\n",
      "['Apple', 'Fruit', 'Red', 'Juicy', 'Firm']\n",
      "{'key1': 'Apple', 'key2': 'Fruit', 'key3': 'Red', 'key4': 'Juicy', 'key5': 'Firm'}\n"
     ]
    }
   ],
   "source": [
    "# Example of creating a dictionary from a sequence.\n",
    "key_list = ['key1', 'key2', 'key3', 'key4', 'key5']\n",
    "value_list = ['Apple', 'Fruit', 'Red', 'Juicy', 'Firm']\n",
    "\n",
    "# View keys.\n",
    "print(key_list)\n",
    "\n",
    "# View values.\n",
    "print(value_list)\n",
    "\n",
    "# Creating new dictionary .\n",
    "dict_3 = dict(zip(key_list, value_list))\n",
    "\n",
    "# View dictionary.\n",
    "print(dict_3)"
   ]
  },
  {
   "cell_type": "markdown",
   "id": "6b6d7b3d",
   "metadata": {},
   "source": [
    "   ## Sets"
   ]
  },
  {
   "cell_type": "code",
   "execution_count": 6,
   "id": "56dedd32",
   "metadata": {},
   "outputs": [
    {
     "name": "stdout",
     "output_type": "stream",
     "text": [
      "{1, 2, 3, 4}\n",
      "<class 'set'>\n"
     ]
    }
   ],
   "source": [
    "# Example of a set.\n",
    "set1 = set([1, 2, 3, 4, 4, 2])\n",
    "\n",
    "# View the set.\n",
    "print(set1)\n",
    "\n",
    "# View the data type.\n",
    "print(type(set1))"
   ]
  },
  {
   "cell_type": "markdown",
   "id": "b1815e97",
   "metadata": {},
   "source": [
    "## Control flow structures."
   ]
  },
  {
   "cell_type": "code",
   "execution_count": null,
   "id": "db1f7d4d",
   "metadata": {},
   "outputs": [],
   "source": []
  },
  {
   "cell_type": "markdown",
   "id": "501408d6",
   "metadata": {},
   "source": [
    "# 1.3 Python libraries and reproductibility of code"
   ]
  },
  {
   "cell_type": "code",
   "execution_count": 3,
   "id": "dbaf2667",
   "metadata": {},
   "outputs": [
    {
     "name": "stdout",
     "output_type": "stream",
     "text": [
      "True\n"
     ]
    }
   ],
   "source": [
    "class Person:\n",
    "    name = \"Jane\"\n",
    "    age = 22\n",
    "\n",
    "x = hasattr(Person, 'age')\n",
    "print(x)"
   ]
  },
  {
   "cell_type": "code",
   "execution_count": 4,
   "id": "858e53a9",
   "metadata": {},
   "outputs": [
    {
     "name": "stdout",
     "output_type": "stream",
     "text": [
      "22\n"
     ]
    }
   ],
   "source": [
    "class Person:\n",
    "    name = 'Jane'\n",
    "    age = 22\n",
    "\n",
    "x = getattr(Person, 'age')\n",
    "print(x)"
   ]
  },
  {
   "cell_type": "code",
   "execution_count": 5,
   "id": "d7c458df",
   "metadata": {},
   "outputs": [
    {
     "name": "stdout",
     "output_type": "stream",
     "text": [
      "32\n"
     ]
    }
   ],
   "source": [
    "class Person:\n",
    "    name = 'Jane'\n",
    "    age = 22\n",
    "\n",
    "setattr(Person, 'age', 32)\n",
    "\n",
    "x = getattr(Person, 'age')\n",
    "\n",
    "print(x)"
   ]
  },
  {
   "cell_type": "code",
   "execution_count": null,
   "id": "01029438",
   "metadata": {},
   "outputs": [],
   "source": [
    "class Person:\n",
    "    name = 'Jane'\n",
    "    age = 32\n",
    "\n",
    "delattr(Person, 'age')\n",
    "\n",
    "x = getattr(Person, 'age')\n",
    "print(x)\n",
    "# This will result in an error as there is no 'age' attribute."
   ]
  },
  {
   "cell_type": "code",
   "execution_count": 6,
   "id": "52c18b71",
   "metadata": {},
   "outputs": [
    {
     "name": "stdout",
     "output_type": "stream",
     "text": [
      "Hello my name is James and I'm 30 years old and I speak English.\n"
     ]
    }
   ],
   "source": [
    "class Person:\n",
    "    def __init__(self, name, age, language):\n",
    "        self.name = name\n",
    "        self.age = age\n",
    "        self.language = language\n",
    "    def introduce(self):\n",
    "         print(f\"Hello my name is {self.name} and I\\'m {self.age} years old and I speak {self.language}.\")\n",
    "\n",
    "class Student(Person):\n",
    "    pass\n",
    "\n",
    "person_object = Student('James', '30', 'English')\n",
    "person_object.introduce()"
   ]
  },
  {
   "cell_type": "code",
   "execution_count": 9,
   "id": "32e0e8db",
   "metadata": {},
   "outputs": [
    {
     "name": "stdout",
     "output_type": "stream",
     "text": [
      "Hello, today the temperature is 30 degrees Celsius and there is a 30 km/h from the SSE.\n"
     ]
    }
   ],
   "source": [
    "class Weather:\n",
    "    def __init__(self, temp, windspeed, wind):\n",
    "        self.temp = temp\n",
    "        self.windspeed = windspeed\n",
    "        self.wind = wind\n",
    "    def introduce(self):\n",
    "         print(f\"Hello, today the temperature is {self.temp} and there is a {self.windspeed} from the {self.wind}.\")\n",
    "\n",
    "Weather_object = Weather('30 degrees Celsius', '30 km/h', 'SSE')\n",
    "Weather_object.introduce()"
   ]
  },
  {
   "cell_type": "code",
   "execution_count": 10,
   "id": "e4fcae6b",
   "metadata": {},
   "outputs": [
    {
     "name": "stdout",
     "output_type": "stream",
     "text": [
      "2021-06-10\n",
      "<class 'datetime.date'>\n"
     ]
    }
   ],
   "source": [
    "# Printing a specific date.\n",
    "import datetime\n",
    "d = datetime.date(2021, 6, 10)\n",
    "\n",
    "print(d)\n",
    "print(type(d))"
   ]
  },
  {
   "cell_type": "code",
   "execution_count": 12,
   "id": "704efd18",
   "metadata": {},
   "outputs": [
    {
     "name": "stdout",
     "output_type": "stream",
     "text": [
      "2022-09-19 12:57:34.960844\n"
     ]
    }
   ],
   "source": [
    "x = datetime.datetime.now()\n",
    "print(x)"
   ]
  },
  {
   "cell_type": "code",
   "execution_count": 1,
   "id": "d10b554f",
   "metadata": {},
   "outputs": [
    {
     "name": "stdout",
     "output_type": "stream",
     "text": [
      "Current year: 2022\n",
      "Current month: 9\n",
      "Current day: 21\n"
     ]
    }
   ],
   "source": [
    "# Printing current year, month and day.\n",
    "from datetime import date\n",
    "#date object of today's date\n",
    "today = date.today()\n",
    "\n",
    "print(\"Current year:\", today.year)\n",
    "print(\"Current month:\", today.month)\n",
    "print(\"Current day:\", today.day)"
   ]
  },
  {
   "cell_type": "code",
   "execution_count": 14,
   "id": "f80fb219",
   "metadata": {},
   "outputs": [
    {
     "name": "stdout",
     "output_type": "stream",
     "text": [
      "time = 06:45:25.234566\n"
     ]
    }
   ],
   "source": [
    "# Import module.\n",
    "from datetime import time\n",
    "\n",
    "# Creating a time object.\n",
    "# time(hour, minute, second, microsecond). \n",
    "t = time(6, 45, 25, 234566) \n",
    "\n",
    "print(\"time =\",t)"
   ]
  },
  {
   "cell_type": "code",
   "execution_count": 15,
   "id": "fdeb6c44",
   "metadata": {},
   "outputs": [
    {
     "name": "stdout",
     "output_type": "stream",
     "text": [
      "time difference = 778 days, 16:50:12\n",
      "type of t3 = <class 'datetime.timedelta'>\n"
     ]
    }
   ],
   "source": [
    "from datetime import datetime, date \n",
    "# You can import more than one class or object at a time from a module.\n",
    "\n",
    "t1 = datetime(year=2021, month=12, day=15, hour=5, minute=45, second=25)\n",
    "t2 = datetime(year=2019, month=10, day=28, hour=12, minute=55, second=13)\n",
    "t3 = t1 - t2\n",
    "print(\"time difference =\", t3)\n",
    "print(\"type of t3 =\", type(t3))"
   ]
  },
  {
   "cell_type": "code",
   "execution_count": null,
   "id": "129ac156",
   "metadata": {},
   "outputs": [],
   "source": []
  },
  {
   "cell_type": "code",
   "execution_count": null,
   "id": "1455d9a5",
   "metadata": {},
   "outputs": [],
   "source": []
  },
  {
   "cell_type": "code",
   "execution_count": null,
   "id": "5fe83cb2",
   "metadata": {},
   "outputs": [],
   "source": []
  },
  {
   "cell_type": "code",
   "execution_count": null,
   "id": "3e56a69e",
   "metadata": {},
   "outputs": [],
   "source": []
  },
  {
   "cell_type": "code",
   "execution_count": null,
   "id": "e4e45ae0",
   "metadata": {},
   "outputs": [],
   "source": []
  },
  {
   "cell_type": "code",
   "execution_count": null,
   "id": "fc2a9884",
   "metadata": {},
   "outputs": [],
   "source": []
  },
  {
   "cell_type": "code",
   "execution_count": null,
   "id": "6f26e113",
   "metadata": {},
   "outputs": [],
   "source": []
  },
  {
   "cell_type": "code",
   "execution_count": null,
   "id": "e4a13852",
   "metadata": {},
   "outputs": [],
   "source": []
  }
 ],
 "metadata": {
  "kernelspec": {
   "display_name": "Python 3 (ipykernel)",
   "language": "python",
   "name": "python3"
  },
  "language_info": {
   "codemirror_mode": {
    "name": "ipython",
    "version": 3
   },
   "file_extension": ".py",
   "mimetype": "text/x-python",
   "name": "python",
   "nbconvert_exporter": "python",
   "pygments_lexer": "ipython3",
   "version": "3.9.12"
  }
 },
 "nbformat": 4,
 "nbformat_minor": 5
}
