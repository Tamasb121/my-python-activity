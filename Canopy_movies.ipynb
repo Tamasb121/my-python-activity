{
 "cells": [
  {
   "cell_type": "code",
   "execution_count": null,
   "id": "353dfedd",
   "metadata": {},
   "outputs": [],
   "source": [
    "# Examine files in Excel first to decide how to read files.\n",
    "# Import Pandas.\n",
    "import pandas as pd\n",
    "\n",
    "# Read the Excel file.\n",
    "movies = pd.read_excel('movies.xlsx')\n",
    "\n",
    "movies\n",
    "\n",
    "print(movies.shape)\n",
    "print(movies.dtypes)\n",
    "print(movies.head)\n",
    "print(movies.tail)"
   ]
  },
  {
   "cell_type": "code",
   "execution_count": null,
   "id": "286ae1ef",
   "metadata": {},
   "outputs": [],
   "source": [
    "# Read the Excel file.\n",
    "ott = pd.read_csv('ott.csv')\n",
    "\n",
    "ott\n",
    "\n",
    "print(ott.shape)\n",
    "print(ott.dtypes)"
   ]
  },
  {
   "cell_type": "code",
   "execution_count": null,
   "id": "78ef072b",
   "metadata": {},
   "outputs": [],
   "source": [
    "# From solution file.\n",
    "# Describe the data set\n",
    "print(movies.dtypes)\n",
    "\n",
    "# View the DataFrame\n",
    "print(ott.dtypes)"
   ]
  }
 ],
 "metadata": {
  "kernelspec": {
   "display_name": "Python 3 (ipykernel)",
   "language": "python",
   "name": "python3"
  },
  "language_info": {
   "codemirror_mode": {
    "name": "ipython",
    "version": 3
   },
   "file_extension": ".py",
   "mimetype": "text/x-python",
   "name": "python",
   "nbconvert_exporter": "python",
   "pygments_lexer": "ipython3",
   "version": "3.9.12"
  }
 },
 "nbformat": 4,
 "nbformat_minor": 5
}
