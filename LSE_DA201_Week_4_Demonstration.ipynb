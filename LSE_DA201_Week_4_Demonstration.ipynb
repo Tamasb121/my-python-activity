{
 "cells": [
  {
   "cell_type": "markdown",
   "id": "828a2417",
   "metadata": {},
   "source": [
    "### LSE Data Analytics Online Career Accelerator\n",
    "\n",
    "# DA201: Data Analytics Using Python"
   ]
  },
  {
   "cell_type": "markdown",
   "id": "8fbdb481",
   "metadata": {},
   "source": [
    "## Week 4: Data visualisation with Python"
   ]
  },
  {
   "cell_type": "markdown",
   "id": "22bc4f8d",
   "metadata": {},
   "source": [
    "The focus this week is on data visualisation with Python. \n",
    "\n",
    "This is your notebook. You will use this notebook to follow along with the demonstrations throughout the week. Use it to test ideas, and explore what is possible. The hands-on experience of writing your own code will accelarate your learning!\n",
    "\n",
    "Learn about using your Jupyter Notebook here: https://jupyter-notebook.readthedocs.io/en/latest/ui_components.html."
   ]
  },
  {
   "cell_type": "markdown",
   "id": "aedc0a53",
   "metadata": {},
   "source": [
    "### 4.1 Data visualisation with Seaborn"
   ]
  },
  {
   "cell_type": "code",
   "execution_count": null,
   "id": "c1fa58eb",
   "metadata": {},
   "outputs": [],
   "source": [
    "# Import Matplotlib.\n",
    "import matplotlib.pyplot as plt\n",
    "\n",
    "# Create an empty plot.\n",
    "fig, ax = plt.subplots()"
   ]
  },
  {
   "cell_type": "code",
   "execution_count": null,
   "id": "d2c6951b",
   "metadata": {},
   "outputs": [],
   "source": [
    "# Draw a line by specifying the axes.\n",
    "ax.plot([1, 2, 3, 4], [8, 6, 4, 2])\n",
    "\n",
    "# View the figure.\n",
    "fig"
   ]
  },
  {
   "cell_type": "code",
   "execution_count": null,
   "id": "a5e7660f",
   "metadata": {},
   "outputs": [],
   "source": [
    "# Draw a line by specifying the axes.\n",
    "ax.plot([8, 6, 4, 2], [1, 2, 3, 4])\n",
    "\n",
    "# View the figure.\n",
    "fig"
   ]
  },
  {
   "cell_type": "code",
   "execution_count": null,
   "id": "91df34c6",
   "metadata": {},
   "outputs": [],
   "source": [
    "# Create a 2 x 2 figure by specifying the nrows and ncols parameters.\n",
    "fig2, ((top_left, top_right), (bottom_left, bottom_right)) = plt.subplots(2, 2)"
   ]
  },
  {
   "cell_type": "code",
   "execution_count": null,
   "id": "3f0b641d",
   "metadata": {},
   "outputs": [],
   "source": [
    "# Specify each variable.\n",
    "top_left.plot([1, 2, 3, 4], [1, 1, 1, 1], color='blue')\n",
    "top_right.plot([1, 2, 3, 4], [1,1,1,1], color='red')\n",
    "bottom_left.plot([1, 2, 3, 4], [1,1,1,1], color='black')\n",
    "bottom_right.plot([1, 2, 3, 4], [1,1,1,1], color='orange')\n",
    "\n",
    "# View the figure.\n",
    "fig2"
   ]
  },
  {
   "cell_type": "code",
   "execution_count": null,
   "id": "690a4215",
   "metadata": {},
   "outputs": [],
   "source": [
    "# Create an empty figure with two axes.\n",
    "fig, ax = plt.subplots()"
   ]
  },
  {
   "cell_type": "code",
   "execution_count": null,
   "id": "6f42d962",
   "metadata": {},
   "outputs": [],
   "source": [
    "# Specify only one argument = y-values.\n",
    "ax.plot([0, 10, 20, 30, 40])\n",
    "\n",
    "# View figure.\n",
    "fig"
   ]
  },
  {
   "cell_type": "code",
   "execution_count": null,
   "id": "403e215a",
   "metadata": {},
   "outputs": [],
   "source": [
    "# Specify two arguments = y-values and x-values.\n",
    "ax.clear()\n",
    "ax.plot([0, 1, 2, 3, 4], [4, 3, 2, 1, 0])\n",
    "\n",
    "# View figure.\n",
    "fig"
   ]
  },
  {
   "cell_type": "code",
   "execution_count": null,
   "id": "e0797e1d",
   "metadata": {},
   "outputs": [],
   "source": [
    "# Specify three arguments = y-values, x-values, and marker.\n",
    "ax.clear()\n",
    "ax.plot([0, 1, 2, 3, 4], [4, 3, 2, 1, 0], 'og-')\n",
    "\n",
    "# View figure.\n",
    "fig"
   ]
  },
  {
   "cell_type": "code",
   "execution_count": null,
   "id": "8b7d65cd",
   "metadata": {},
   "outputs": [],
   "source": [
    "# Specify three arguments (y-values, x-values, and marker) without a line.\n",
    "ax.clear()\n",
    "ax.plot([0, 1, 2, 3, 4], [4, 3, 2, 1, 0], 'xb')\n",
    "\n",
    "# View figure.\n",
    "fig"
   ]
  },
  {
   "cell_type": "code",
   "execution_count": null,
   "id": "9cda7807",
   "metadata": {},
   "outputs": [],
   "source": [
    "# Specify various named arguments.\n",
    "ax.clear()\n",
    "ax.plot([0, 1, 2, 3, 4],\n",
    "        [4, 3, 2, 1, 0],\n",
    "        color='#94CEE4',\n",
    "        marker='x',\n",
    "        markeredgecolor='red',\n",
    "        drawstyle='steps',\n",
    "        linestyle=':')\n",
    "\n",
    "# View figure.\n",
    "fig"
   ]
  },
  {
   "cell_type": "code",
   "execution_count": null,
   "id": "ed1e649e",
   "metadata": {},
   "outputs": [],
   "source": [
    "# Import Matplotlib.\n",
    "import matplotlib.pyplot as plt\n",
    "\n",
    "# Draw a line by specifying the axes.\n",
    "ax.plot([1, 2, 3, 4], [4, 3, 2, 1])\n",
    "\n",
    "# View the Figure.\n",
    "fig"
   ]
  },
  {
   "cell_type": "code",
   "execution_count": null,
   "id": "9b92550e",
   "metadata": {},
   "outputs": [],
   "source": [
    "# Import Seaborn.\n",
    "import seaborn as sns\n",
    "\n",
    "# Create a plot.\n",
    "sns.relplot(x=[1, 2, 3, 4], y=[4, 3, 2, 1], kind='line')"
   ]
  },
  {
   "cell_type": "code",
   "execution_count": null,
   "id": "0c30fca6",
   "metadata": {},
   "outputs": [],
   "source": [
    "# Import Matplotlib.\n",
    "import matplotlib.pyplot as plt\n",
    "\n",
    "# Draw a line by specifying the axes.\n",
    "ax.plot([1, 2, 3, 4], [4, 3, 2, 1])\n",
    "\n",
    "# View the Figure.\n",
    "fig"
   ]
  },
  {
   "cell_type": "markdown",
   "id": "a564fb2e",
   "metadata": {},
   "source": [
    "The following deductions can be made:\n",
    "\n",
    "The code snippets indicate that both Matplotlib and Seaborn need one library to create a basic lineplot. \n",
    "Seaborn has fewer lines and less complicated code than Matplotlib.\n",
    "The outputs display the same correlation, colour, and line. However, Seaborn only displays the lines representing the x- and y-axis, while Matplotlib displays a ‘box’."
   ]
  },
  {
   "cell_type": "markdown",
   "id": "8f594418",
   "metadata": {},
   "source": [
    "# "
   ]
  },
  {
   "cell_type": "markdown",
   "id": "f14e7de5",
   "metadata": {},
   "source": [
    "# COUNTPLOTS"
   ]
  },
  {
   "cell_type": "code",
   "execution_count": null,
   "id": "47003679",
   "metadata": {},
   "outputs": [],
   "source": [
    "# Default syntax for a countplot function in Seaborn.\n",
    "# sns.countplot([x, y, hue, data, order, hue_order, ...])"
   ]
  },
  {
   "cell_type": "code",
   "execution_count": null,
   "id": "418a49f1",
   "metadata": {},
   "outputs": [],
   "source": [
    "# Import Matplotlib, Seaborn, and Pandas.\n",
    "import matplotlib.pyplot as plt\n",
    "import seaborn as sns\n",
    "import pandas as pd\n",
    "\n",
    "# Read the CSV file.\n",
    "penguins = pd.read_csv('penguins.csv')\n",
    "\n",
    "# View the DataFrame.\n",
    "print(penguins.shape)\n",
    "print(penguins.dtypes)\n",
    "print(penguins.columns)\n",
    "penguins.head()"
   ]
  },
  {
   "cell_type": "code",
   "execution_count": null,
   "id": "da061485",
   "metadata": {},
   "outputs": [],
   "source": [
    "# Create a countplot with Seaborn.\n",
    "\n",
    "sns.countplot(x='island', data=penguins)"
   ]
  },
  {
   "cell_type": "code",
   "execution_count": null,
   "id": "dfb47408",
   "metadata": {},
   "outputs": [],
   "source": [
    "# Create a countplot with Seaborn.\n",
    "sns.countplot(y='island', data=penguins)"
   ]
  },
  {
   "cell_type": "code",
   "execution_count": null,
   "id": "0d0e9c50",
   "metadata": {},
   "outputs": [],
   "source": [
    "# Create a countplot with Seaborn.\n",
    "sns.countplot(x='island', hue='species', data=penguins)"
   ]
  },
  {
   "cell_type": "markdown",
   "id": "4e3276fb",
   "metadata": {},
   "source": [
    "# POINTPLOTS"
   ]
  },
  {
   "cell_type": "code",
   "execution_count": null,
   "id": "343859bb",
   "metadata": {},
   "outputs": [],
   "source": [
    "# Import Matplotlib, Seaborn, and Pandas.\n",
    "import matplotlib.pyplot as plt\n",
    "import seaborn as sns\n",
    "import pandas as pd\n",
    "\n",
    "# Read the CSV file.\n",
    "mpg = pd.read_csv('mpg.csv')\n",
    "\n",
    "# View the DataFrame.\n",
    "print(mpg.shape)\n",
    "print(mpg.dtypes)\n",
    "print(mpg.columns)\n",
    "mpg.head()"
   ]
  },
  {
   "cell_type": "code",
   "execution_count": null,
   "id": "9342101a",
   "metadata": {},
   "outputs": [],
   "source": [
    "# Incorrect 1\n",
    "# Create a lineplot for fuel efficiency.\n",
    "sns.lineplot(x='model_year', y='mpg', data=mpg)"
   ]
  },
  {
   "cell_type": "code",
   "execution_count": null,
   "id": "8508b0e1",
   "metadata": {},
   "outputs": [],
   "source": []
  },
  {
   "cell_type": "code",
   "execution_count": null,
   "id": "f9ae97aa",
   "metadata": {},
   "outputs": [],
   "source": [
    "# Correct!!!\n",
    "# Create a pointplot for fuel efficiency.\n",
    "sns.pointplot(x='model_year', y='mpg', data=mpg)"
   ]
  },
  {
   "cell_type": "code",
   "execution_count": null,
   "id": "15000848",
   "metadata": {},
   "outputs": [],
   "source": [
    "# Create a pointplot for fuel efficiency.\n",
    "sns.pointplot(x='model_year', y='mpg', hue='origin', data=mpg)"
   ]
  },
  {
   "cell_type": "markdown",
   "id": "a77c243d",
   "metadata": {},
   "source": [
    "# BARPLOTS"
   ]
  },
  {
   "cell_type": "code",
   "execution_count": null,
   "id": "62b2f6db",
   "metadata": {},
   "outputs": [],
   "source": [
    "# Import Matplotlib, Seaborn, and Pandas.\n",
    "import matplotlib.pyplot as plt\n",
    "import seaborn as sns\n",
    "import pandas as pd\n",
    "\n",
    "# Read the CSV file.\n",
    "fitness = pd.read_csv('daily_activity.csv')\n",
    "\n",
    "# View the DataFrame.\n",
    "print(fitness.shape)\n",
    "print(fitness.dtypes)\n",
    "print(fitness.columns)\n",
    "fitness.head()"
   ]
  },
  {
   "cell_type": "code",
   "execution_count": null,
   "id": "5a324874",
   "metadata": {},
   "outputs": [],
   "source": [
    "# Create a DataFrame with specified columns.\n",
    "distance = fitness[['Id', 'ActivityDate', 'VeryActiveDistance',\n",
    "                   'ModeratelyActiveDistance', 'LightActiveDistance',\n",
    "                   'SedentaryActiveDistance']]\n",
    "\n",
    "# View the DataFrame.\n",
    "print(distance.head())"
   ]
  },
  {
   "cell_type": "code",
   "execution_count": null,
   "id": "52383cc3",
   "metadata": {},
   "outputs": [],
   "source": [
    "# Reshape the DataFrame from wide to long. \n",
    "distance_long = distance.melt(id_vars=['Id', 'ActivityDate'], \n",
    "                              var_name='DistanceType', value_name='Distance')\n",
    "\n",
    "# View the DataFrame.\n",
    "print(distance_long.head())"
   ]
  },
  {
   "cell_type": "code",
   "execution_count": null,
   "id": "f11f660f",
   "metadata": {},
   "outputs": [],
   "source": [
    "# Add a filter to identify logged-in user.\n",
    "individual = distance_long[distance_long['Id'] == 1503960366]\n",
    "\n",
    "# Create a barplot.\n",
    "sns.barplot(x='DistanceType', y='Distance', estimator=sum, data=individual)"
   ]
  },
  {
   "cell_type": "code",
   "execution_count": null,
   "id": "aff294ff",
   "metadata": {},
   "outputs": [],
   "source": [
    "# Format values in the columns. Remove ActiveDistance from column DistanceType. Shorten value name.\n",
    "distance_long['DistanceType'] = distance_long['DistanceType'].str.replace('ActiveDistance', \"\")\n",
    "\n",
    "\n",
    "# Add a filter to identify logged-in user.\n",
    "individual = distance_long[distance_long['Id'] == 1503960366]\n",
    "\n",
    "\n",
    "# Create a barplot.\n",
    "sns.barplot(x='DistanceType', y='Distance', estimator=sum, data=individual)"
   ]
  },
  {
   "cell_type": "markdown",
   "id": "2080d005",
   "metadata": {},
   "source": [
    "This simple bar chart shows us the total distance at all levels of intensity for a single user with error bars (i.e. the uncertainty around estimates if sampling a specific time period from that specific individual's activity). On the app, this would be valuable for someone who wants to track or change their goals, changing axis labels after plotting, bins, and limits of an axis."
   ]
  },
  {
   "cell_type": "code",
   "execution_count": null,
   "id": "fb1889b6",
   "metadata": {},
   "outputs": [],
   "source": [
    "# Stacked barplots with Pandas.\n",
    "individual.groupby('DistanceType')[['Distance']].sum().T.plot.bar(stacked=True)"
   ]
  },
  {
   "cell_type": "code",
   "execution_count": null,
   "id": "d27b482a",
   "metadata": {},
   "outputs": [],
   "source": [
    "# Pair the data of two individuals.\n",
    "pair = distance_long[distance_long['Id'].isin([8877689391, 1503960366])]\n",
    "\n",
    "# Create a grouped barplot.\n",
    "sns.barplot(x='DistanceType', y='Distance', hue='Id', estimator=sum, data=pair)"
   ]
  },
  {
   "cell_type": "markdown",
   "id": "be36a3bc",
   "metadata": {},
   "source": [
    "# Histograms"
   ]
  },
  {
   "cell_type": "code",
   "execution_count": null,
   "id": "888772cf",
   "metadata": {},
   "outputs": [],
   "source": [
    "# Create a single_day variable.\n",
    "# Specify a chosen day within the ActivityDate column and fitness DataFrame.\n",
    "single_day = fitness[fitness['ActivityDate'] == '4/12/2016']\n",
    "\n",
    "# View the output.\n",
    "print(single_day.shape)\n",
    "\n",
    "# Create the histogram.\n",
    "sns.histplot(data=single_day, x='TotalDistance')"
   ]
  },
  {
   "cell_type": "code",
   "execution_count": null,
   "id": "50e401ef",
   "metadata": {},
   "outputs": [],
   "source": [
    "# Create the histogram and set binwidth=1.\n",
    "sns.histplot(data=single_day, x='TotalDistance', binwidth=1)"
   ]
  },
  {
   "cell_type": "code",
   "execution_count": null,
   "id": "e2cced5a",
   "metadata": {},
   "outputs": [],
   "source": [
    "# THIS IS TOO GRANULAR."
   ]
  },
  {
   "cell_type": "markdown",
   "id": "0d9674a6",
   "metadata": {},
   "source": [
    "# SCATTERPLOTS"
   ]
  },
  {
   "cell_type": "code",
   "execution_count": null,
   "id": "e2e334a7",
   "metadata": {},
   "outputs": [],
   "source": [
    "# Create a single_day variable.\n",
    "# Specify a chosen day within the ActivityDate column and fitness DataFrame.\n",
    "single_day = fitness[fitness['ActivityDate'] == '4/12/2016']\n",
    "\n",
    "# View the output.\n",
    "print(single_day.shape)\n",
    "\n",
    "# Create the scatterplot.\n",
    "sns.scatterplot(x='TotalSteps', y='Calories', data=single_day)"
   ]
  },
  {
   "cell_type": "code",
   "execution_count": null,
   "id": "1708a3fd",
   "metadata": {},
   "outputs": [],
   "source": [
    "# Create a scatterplot with three variables.\n",
    "sns.scatterplot(x='TotalSteps', y='Calories', marker='o',\n",
    "                hue='VeryActiveMinutes', size='VeryActiveMinutes',\n",
    "                legend='full', data=single_day)\n",
    "\n",
    "# Adjust the legend position.\n",
    "plt.legend(bbox_to_anchor=(1.05, 1))"
   ]
  },
  {
   "cell_type": "code",
   "execution_count": null,
   "id": "e1b241fc",
   "metadata": {},
   "outputs": [],
   "source": [
    "# Create the scatterplot with regression line.\n",
    "sns.regplot(x='TotalSteps', y='Calories', data=single_day)"
   ]
  },
  {
   "cell_type": "markdown",
   "id": "821600c3",
   "metadata": {},
   "source": [
    "# 4.1.10 Outlier analysis: Pairplots"
   ]
  },
  {
   "cell_type": "code",
   "execution_count": null,
   "id": "33c838c6",
   "metadata": {},
   "outputs": [],
   "source": [
    "# Create a simple pairplot.\n",
    "sns.pairplot(penguins)"
   ]
  },
  {
   "cell_type": "code",
   "execution_count": null,
   "id": "d6e902b1",
   "metadata": {},
   "outputs": [],
   "source": [
    "# Create a pairplot with KDE (kernel density estimate).\n",
    "sns.pairplot(penguins, hue='species')"
   ]
  },
  {
   "cell_type": "code",
   "execution_count": null,
   "id": "26ea5077",
   "metadata": {},
   "outputs": [],
   "source": [
    "# Create a pairplot with the facetgrid method.\n",
    "sns.pairplot(penguins, hue='species', diag_kind='hist')"
   ]
  },
  {
   "cell_type": "code",
   "execution_count": null,
   "id": "1fffd38f",
   "metadata": {},
   "outputs": [],
   "source": [
    "sns.pairplot(penguins, hue='species', diag_kind='hist', height=2)"
   ]
  },
  {
   "cell_type": "code",
   "execution_count": null,
   "id": "d21de290",
   "metadata": {},
   "outputs": [],
   "source": [
    "# Remove any redundant plots.\n",
    "sns.pairplot(penguins,\n",
    "             x_vars=['bill_length_mm', 'bill_depth_mm', 'flipper_length_mm'],\n",
    "             y_vars=['bill_length_mm', 'bill_depth_mm'])"
   ]
  },
  {
   "cell_type": "code",
   "execution_count": null,
   "id": "2a7a29c7",
   "metadata": {},
   "outputs": [],
   "source": [
    "# Create a boxplot based on species and body_mass_g.\n",
    "sns.boxplot(data=penguins, x='species', y='body_mass_g')"
   ]
  },
  {
   "cell_type": "code",
   "execution_count": null,
   "id": "ec3118d8",
   "metadata": {},
   "outputs": [],
   "source": [
    "# Create a boxplot with a third variable.\n",
    "sns.boxplot(data=penguins, x='species', y='body_mass_g', hue='sex')"
   ]
  },
  {
   "cell_type": "code",
   "execution_count": null,
   "id": "c51cd56d",
   "metadata": {},
   "outputs": [],
   "source": [
    "# Specify the order of variables. \n",
    "my_order = penguins.groupby(by=['species'])['body_mass_g'].median().iloc[::-1].index\n",
    "\n",
    "# Create a boxplot based on the order of variables.\n",
    "sns.boxplot(x='species', y='body_mass_g', data=penguins, order=my_order)"
   ]
  },
  {
   "cell_type": "markdown",
   "id": "6cdecd6e",
   "metadata": {},
   "source": [
    "# Lineplots"
   ]
  },
  {
   "cell_type": "code",
   "execution_count": null,
   "id": "782dfac9",
   "metadata": {},
   "outputs": [],
   "source": [
    "# Create a simple lineplot.\n",
    "sns.lineplot(x='ActivityDate', y='TotalSteps', data=fitness)"
   ]
  },
  {
   "cell_type": "code",
   "execution_count": null,
   "id": "6deb1159",
   "metadata": {},
   "outputs": [],
   "source": [
    "# Create a time-series.\n",
    "steps_time_series = fitness\\\n",
    " .groupby('ActivityDate')[['TotalSteps']]\\\n",
    " .sum()\\\n",
    " .reset_index()\\\n",
    " .copy()\n",
    "\n",
    "\n",
    "# Format data with datetime() function.\n",
    "steps_time_series['ActivityDate'] = pd.to_datetime(steps_time_series['ActivityDate'])\n",
    "\n",
    "# View the output.\n",
    "print(steps_time_series.head())\n",
    "\n",
    "\n",
    "# Create a lineplot without confidence level shade.\n",
    "sns.lineplot(x='ActivityDate', y='TotalSteps', data=steps_time_series)"
   ]
  },
  {
   "cell_type": "code",
   "execution_count": null,
   "id": "d775841b",
   "metadata": {},
   "outputs": [],
   "source": [
    "# Create a simple lineplot without confidence interval.\n",
    "sns.lineplot(x='ActivityDate', y='TotalSteps', data=fitness, ci=None)"
   ]
  },
  {
   "cell_type": "code",
   "execution_count": null,
   "id": "0b9f6f36",
   "metadata": {},
   "outputs": [],
   "source": [
    "# Create plot size.\n",
    "plt.figure(figsize=(18, 6))\n",
    "\n",
    "# Create a lineplote with specific date.\n",
    "sns.lineplot(x='ActivityDate', y='TotalSteps',\n",
    "             data=steps_time_series[steps_time_series['ActivityDate'] < '2016-05-01'])"
   ]
  },
  {
   "cell_type": "markdown",
   "id": "486562a1",
   "metadata": {},
   "source": [
    "# Relational plots"
   ]
  },
  {
   "cell_type": "code",
   "execution_count": null,
   "id": "373252c1",
   "metadata": {},
   "outputs": [],
   "source": [
    "# Create a scatterplot.\n",
    "sns.scatterplot(x='bill_length_mm', y='flipper_length_mm', hue='sex', data=penguins)"
   ]
  },
  {
   "cell_type": "code",
   "execution_count": null,
   "id": "9b925db3",
   "metadata": {},
   "outputs": [],
   "source": [
    "# Set the size of the plot.\n",
    "sns.set(font_scale = 2)\n",
    "\n",
    "# Create a relational plot.\n",
    "sns.relplot(x='bill_length_mm', y='flipper_length_mm', hue='sex',\n",
    "            data=penguins, col='species')"
   ]
  },
  {
   "cell_type": "code",
   "execution_count": null,
   "id": "3fc5c980",
   "metadata": {},
   "outputs": [],
   "source": [
    "# Set the size of the plot.\n",
    "sns.set(font_scale = 1.5)\n",
    "\n",
    "# Create a relational plot.\n",
    "sns.relplot(x='bill_length_mm', y='flipper_length_mm',\n",
    "            hue='sex', data=penguins, col='species', row='island')"
   ]
  },
  {
   "cell_type": "markdown",
   "id": "a986bff8",
   "metadata": {},
   "source": [
    "# "
   ]
  },
  {
   "cell_type": "markdown",
   "id": "cf34be17",
   "metadata": {},
   "source": [
    "### 4.2 Customising plots with Seaborn and Matplotlib"
   ]
  },
  {
   "cell_type": "code",
   "execution_count": 1,
   "id": "8bcebd34",
   "metadata": {},
   "outputs": [
    {
     "data": {
      "text/plain": [
       "[<matplotlib.lines.Line2D at 0x2dcfcede490>]"
      ]
     },
     "execution_count": 1,
     "metadata": {},
     "output_type": "execute_result"
    },
    {
     "data": {
      "image/png": "[encoded data removed]",
      "text/plain": [
       "<Figure size 432x288 with 1 Axes>"
      ]
     },
     "metadata": {
      "needs_background": "light"
     },
     "output_type": "display_data"
    }
   ],
   "source": [
    "# Import libraries.\n",
    "import pandas as pd\n",
    "import numpy as np\n",
    "import seaborn as sns\n",
    "import matplotlib.pyplot as plt\n",
    "\n",
    "# Create an empty plot.\n",
    "fig, ax = plt.subplots()\n",
    "\n",
    "# Create variables.\n",
    "x = np.linspace(0, 10, 101)\n",
    "y = np.exp(x)\n",
    "\n",
    "# Create plot.\n",
    "ax.plot(x, y)"
   ]
  },
  {
   "cell_type": "code",
   "execution_count": null,
   "id": "6d1be12e",
   "metadata": {},
   "outputs": [],
   "source": [
    "# Set labels and title.\n",
    "ax.set_xlabel(\"Time Elapsed (minutes)\")\n",
    "ax.set_ylabel(\"Count\")\n",
    "ax.set_title(\"Bacteria Growth\")\n",
    "\n",
    "# View plot.\n",
    "fig"
   ]
  },
  {
   "cell_type": "code",
   "execution_count": null,
   "id": "6b04f89d",
   "metadata": {},
   "outputs": [],
   "source": [
    "# Add ticks to x-axis.\n",
    "ax.set_xticks([0, 5, 10])\n",
    "ax.set_xticks([1, 2, 3, 4, 6, 7, 8, 9], minor=True)\n",
    "\n",
    "# View figure.\n",
    "fig"
   ]
  },
  {
   "cell_type": "code",
   "execution_count": null,
   "id": "6a3362f9",
   "metadata": {},
   "outputs": [],
   "source": [
    "# Add ticks labels to x-axis.\n",
    "ax.set_xticklabels(['0.0', '5.0', '10.0'])\n",
    "\n",
    "# View figure.\n",
    "fig"
   ]
  },
  {
   "cell_type": "code",
   "execution_count": null,
   "id": "65d64d7e",
   "metadata": {},
   "outputs": [],
   "source": [
    "# Add ticks labels to x-axis.\n",
    "ax.set_xticklabels(['1', '2', '3', '4', '6',\n",
    "                    '7', '8', '9'], minor=True)\n",
    "\n",
    "# View figure.\n",
    "fig"
   ]
  },
  {
   "cell_type": "code",
   "execution_count": 2,
   "id": "de95938a",
   "metadata": {},
   "outputs": [
    {
     "data": {
      "text/plain": [
       "<matplotlib.legend.Legend at 0x2dcfd6433a0>"
      ]
     },
     "execution_count": 2,
     "metadata": {},
     "output_type": "execute_result"
    },
    {
     "data": {
      "image/png": "[encoded data removed]",
      "text/plain": [
       "<Figure size 432x288 with 1 Axes>"
      ]
     },
     "metadata": {
      "needs_background": "light"
     },
     "output_type": "display_data"
    }
   ],
   "source": [
    "# Create new variables.\n",
    "y_no_food = np.exp(x)\n",
    "y_food = np.exp(x + 1.01)\n",
    "\n",
    "# Create an empty plot.\n",
    "fig, ax = plt.subplots()\n",
    "\n",
    "# Plot the new variables and add the label to the legend.\n",
    "lines = ax.plot(x, y_no_food)\n",
    "line = lines[0]\n",
    "\n",
    "# Set the line variable.\n",
    "line.set_label(\"No Food\")\n",
    "\n",
    "# Add legend.\n",
    "ax.legend()"
   ]
  },
  {
   "cell_type": "code",
   "execution_count": null,
   "id": "4d367207",
   "metadata": {},
   "outputs": [],
   "source": [
    "fig, ax = plt.subplots()"
   ]
  },
  {
   "cell_type": "code",
   "execution_count": 3,
   "id": "1876e455",
   "metadata": {},
   "outputs": [
    {
     "data": {
      "text/plain": [
       "<matplotlib.legend.Legend at 0x2dcfd6b3ee0>"
      ]
     },
     "execution_count": 3,
     "metadata": {},
     "output_type": "execute_result"
    },
    {
     "data": {
      "image/png": "[encoded data removed]",
      "text/plain": [
       "<Figure size 432x288 with 1 Axes>"
      ]
     },
     "metadata": {
      "needs_background": "light"
     },
     "output_type": "display_data"
    }
   ],
   "source": [
    "# Create new variables.\n",
    "y_no_food = np.exp(x)\n",
    "y_food = np.exp(x + 1.01)\n",
    "\n",
    "# Create an empty plot.\n",
    "fig, ax = plt.subplots()\n",
    "\n",
    "# Plot the new variables and add the label to the legend.\n",
    "lines = ax.plot(x, y_no_food)\n",
    "line = lines[0]\n",
    "\n",
    "# Set the line variable.\n",
    "line.set_label(\"No Food\")\n",
    "\n",
    "# Add legend.\n",
    "ax.legend()"
   ]
  },
  {
   "cell_type": "code",
   "execution_count": 4,
   "id": "9138c8f3",
   "metadata": {},
   "outputs": [
    {
     "data": {
      "image/png": "[encoded data removed]",
      "text/plain": [
       "<Figure size 432x288 with 1 Axes>"
      ]
     },
     "execution_count": 4,
     "metadata": {},
     "output_type": "execute_result"
    }
   ],
   "source": [
    "# Plot second line.\n",
    "ax.plot(x, y_food, label=\"With Food\")\n",
    "\n",
    "# Create legend.\n",
    "ax.legend()\n",
    "\n",
    "# Specify legend position.\n",
    "ax.legend(loc='center left')\n",
    "\n",
    "# View figure.\n",
    "fig"
   ]
  },
  {
   "cell_type": "code",
   "execution_count": null,
   "id": "76ef6aca",
   "metadata": {},
   "outputs": [],
   "source": [
    "# Set the figure size.\n",
    "sns.set(rc={'figure.figsize':(5, 5)})\n",
    "\n",
    "# Set the tick style.\n",
    "sns.set_style('ticks')\n",
    "\n",
    "# Set the colour style.\n",
    "sns.set_style('darkgrid')\n",
    "\n",
    "# Plot the scatterplot.\n",
    "sns.scatterplot(data=penguins, x='bill_length_mm', \n",
    "                y='flipper_length_mm', hue='species')"
   ]
  },
  {
   "cell_type": "code",
   "execution_count": null,
   "id": "c917cb11",
   "metadata": {},
   "outputs": [],
   "source": [
    "# Set the style of ticks.\n",
    "sns.set_style('ticks', {'axes.facecolor': '#dddddd',\n",
    "                        'axes.spines.top': False,\n",
    "                        'axes.spines.right': False})\n",
    "\n",
    "# Create the scatterplot.\n",
    "sns.scatterplot(data=penguins, x='bill_length_mm',\n",
    "                y='flipper_length_mm', hue='species')"
   ]
  },
  {
   "cell_type": "code",
   "execution_count": null,
   "id": "8310e55c",
   "metadata": {},
   "outputs": [],
   "source": [
    "# Set the colour as colorblind.\n",
    "sns.scatterplot(data=penguins, x='bill_length_mm',\n",
    "                y='flipper_length_mm', hue='species',\n",
    "                palette='colorblind')"
   ]
  },
  {
   "cell_type": "code",
   "execution_count": null,
   "id": "02cda68f",
   "metadata": {},
   "outputs": [],
   "source": [
    "# Set the style first.\n",
    "sns.set_style('ticks')\n",
    "\n",
    "# Specify the Pastel palette.\n",
    "sns.scatterplot(data=penguins, x='bill_length_mm',\n",
    "                y='flipper_length_mm', hue='species',\n",
    "                palette='pastel')"
   ]
  },
  {
   "cell_type": "code",
   "execution_count": null,
   "id": "c665dc18",
   "metadata": {},
   "outputs": [],
   "source": [
    "# Set the colour as colorblind.\n",
    "sns.scatterplot(data=penguins, x='bill_length_mm',\n",
    "                y='flipper_length_mm', hue='species',\n",
    "                palette='colorblind')"
   ]
  },
  {
   "cell_type": "code",
   "execution_count": null,
   "id": "ad0e2661",
   "metadata": {},
   "outputs": [],
   "source": [
    "# Plot the scatterplot.\n",
    "ax = sns.scatterplot(data=penguins, x='bill_length_mm',\n",
    "                     y='flipper_length_mm', hue='species',\n",
    "                     palette='colorblind')\n",
    "\n",
    "# Specify the labels.\n",
    "ax.set_xlabel(\"Bill length (mm)\")\n",
    "ax.set_ylabel(\"Flipper length (mm)\")\n",
    "ax.set_title(\"Penguins Bill vs. Flipper Length\")"
   ]
  },
  {
   "cell_type": "code",
   "execution_count": null,
   "id": "23d967a3",
   "metadata": {},
   "outputs": [],
   "source": []
  },
  {
   "cell_type": "markdown",
   "id": "a4fc3f70",
   "metadata": {},
   "source": [
    "### 4.3 Visualisation workflow"
   ]
  },
  {
   "cell_type": "code",
   "execution_count": null,
   "id": "e7c55ccd",
   "metadata": {},
   "outputs": [],
   "source": []
  },
  {
   "cell_type": "code",
   "execution_count": null,
   "id": "de5291c2",
   "metadata": {},
   "outputs": [],
   "source": []
  },
  {
   "cell_type": "code",
   "execution_count": null,
   "id": "55e9442c",
   "metadata": {},
   "outputs": [],
   "source": []
  },
  {
   "cell_type": "code",
   "execution_count": null,
   "id": "64b95988",
   "metadata": {},
   "outputs": [],
   "source": []
  }
 ],
 "metadata": {
  "kernelspec": {
   "display_name": "Python 3 (ipykernel)",
   "language": "python",
   "name": "python3"
  },
  "language_info": {
   "codemirror_mode": {
    "name": "ipython",
    "version": 3
   },
   "file_extension": ".py",
   "mimetype": "text/x-python",
   "name": "python",
   "nbconvert_exporter": "python",
   "pygments_lexer": "ipython3",
   "version": "3.9.12"
  }
 },
 "nbformat": 4,
 "nbformat_minor": 5
}
