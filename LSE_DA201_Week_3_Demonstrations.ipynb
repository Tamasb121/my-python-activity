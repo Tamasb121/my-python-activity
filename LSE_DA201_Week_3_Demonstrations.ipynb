{
 "cells": [
  {
   "cell_type": "markdown",
   "id": "24f183c7",
   "metadata": {},
   "source": [
    "### LSE Data Analytics Online Career Accelerator\n",
    "\n",
    "# DA201: Data Analytics Using Python"
   ]
  },
  {
   "cell_type": "markdown",
   "id": "d57f4506",
   "metadata": {},
   "source": [
    "## Week 3: Data wrangling with Pandas"
   ]
  },
  {
   "cell_type": "markdown",
   "id": "f5afe0f1",
   "metadata": {},
   "source": [
    "The focus this week is on data ingestion and data wrangling. \n",
    "\n",
    "This is your notebook. You will use this notebook to follow along with the demonstrations throughout the week. Use it to test ideas, and explore what is possible. The hands-on experience of writing your own code will accelarate your learning!\n",
    "\n",
    "Learn about using your Jupyter Notebook here: https://jupyter-notebook.readthedocs.io/en/latest/ui_components.html."
   ]
  },
  {
   "cell_type": "markdown",
   "id": "9418c7c3",
   "metadata": {},
   "source": [
    "### 3.1 Wrangling data with Pandas"
   ]
  },
  {
   "cell_type": "markdown",
   "id": "a9a68b2d",
   "metadata": {},
   "source": [
    "# Using the concat function."
   ]
  },
  {
   "cell_type": "code",
   "execution_count": null,
   "id": "294f3ace",
   "metadata": {},
   "outputs": [],
   "source": [
    "# Create a DataFrame for the car models.\n",
    "# Import Pandas.\n",
    "import pandas as pd\n",
    "\n",
    "# Create the DataFrame.\n",
    "cars = pd.DataFrame({'VW': ['Polo', 'T-Cross', 'Tiguan', 'Toureg'],\n",
    "                     'Toyota': ['Agya', 'Corolla', 'Rav4', 'Land Cruiser'],\n",
    "                     'Honda': ['Brio', 'Jazz', 'HRV', 'CRV'], \n",
    "                     'BMW': ['BMW1', 'BMW2', 'BMW3', 'BMW4']}, \n",
    "                    index=[0, 1, 2, 3])\n",
    "\n",
    "# View the DataFrame.\n",
    "cars\n"
   ]
  },
  {
   "cell_type": "code",
   "execution_count": null,
   "id": "71a235a3",
   "metadata": {},
   "outputs": [],
   "source": []
  },
  {
   "cell_type": "code",
   "execution_count": null,
   "id": "7941d17f",
   "metadata": {},
   "outputs": [],
   "source": []
  },
  {
   "cell_type": "code",
   "execution_count": null,
   "id": "403f8282",
   "metadata": {},
   "outputs": [],
   "source": [
    "# Create a DataFrame for the motorcycle models.\n",
    "motorcycles = pd.DataFrame({'VW': ['-', '-', '-', '-'],\n",
    "                            'Toyota': ['-', '-', '-', '-'],\n",
    "                            'Honda': ['Shine', 'Activa', 'Comfort Travel',\n",
    "                                      'Adventure Sport'],\n",
    "                            'BMW': ['Sport', 'Roadster', 'Heritage', 'Adventure']},\n",
    "                           index=[4, 5, 6, 7])\n",
    "\n",
    "# View the DataFrame.\n",
    "motorcycles"
   ]
  },
  {
   "cell_type": "code",
   "execution_count": null,
   "id": "14dbc5ea",
   "metadata": {},
   "outputs": [],
   "source": [
    "vehicles = pd.concat((cars, motorcycles), ignore_index=True)\n",
    "\n",
    "vehicles\n"
   ]
  },
  {
   "cell_type": "code",
   "execution_count": null,
   "id": "061ebe9f",
   "metadata": {},
   "outputs": [],
   "source": [
    "# Create cars_2 DataFrame.\n",
    "cars_2 = pd.DataFrame({'VW': ['Polo', 'T-Cross', 'Tiguan', 'Toureg'],\n",
    "                       'Toyota': ['Agya', 'Corolla', 'Rav4', 'Land Cruiser'],\n",
    "                       'Honda': ['Brio', 'Jazz', 'HRV', 'CRV'], \n",
    "                       'BMW': ['BMW1', 'BMW2', 'BMW3', 'BMW4']},\n",
    "                     index=['car1', 'car2', 'car3', 'car4'])\n",
    "\n",
    "\n",
    "# Create motorcycles_2 DataFrame.\n",
    "motorcycles_2 = pd.DataFrame({'VW': ['-', '-', '-', '-'],\n",
    "                              'Toyota': ['-', '-', '-', '-'],\n",
    "                              'Honda': ['Shine', 'Activa', 'Comfort Travel', \n",
    "                                        'Adventure Sport'],\n",
    "                              'BMW': ['Sport', 'Roadster', 'Heritage', 'Adventure']},\n",
    "                            index=['mcycle1', 'mcycle2', 'mcycle3', 'mcycle4'])\n",
    "\n",
    "\n",
    "# Concatenate the two DataFrames.\n",
    "products_2 = pd.concat([cars_2, motorcycles_2])\n",
    "\n",
    "# View the DataFrame.\n",
    "products_2"
   ]
  },
  {
   "cell_type": "markdown",
   "id": "d1882611",
   "metadata": {},
   "source": [
    "# "
   ]
  },
  {
   "cell_type": "code",
   "execution_count": null,
   "id": "0938ee81",
   "metadata": {},
   "outputs": [],
   "source": [
    "import pandas as pd\n",
    "class_a = pd.read_csv('classlist_a.csv')\n",
    "class_b = pd.read_csv('classlist_b.csv')\n",
    "class_c = pd.read_csv('classlist_c.csv')\n",
    "class_d = pd.read_csv('classlist_d.csv')\n",
    "\n",
    "my_classes = pd.concat([class_a, class_b, class_c, class_d])\n",
    "\n",
    "my_classes"
   ]
  },
  {
   "cell_type": "code",
   "execution_count": null,
   "id": "d594a103",
   "metadata": {},
   "outputs": [],
   "source": [
    "my_classes_sorted = my_classes.sort_values(by='Surname')\n",
    "my_classes_sorted"
   ]
  },
  {
   "cell_type": "markdown",
   "id": "7e306205",
   "metadata": {},
   "source": [
    "# Using the merge function."
   ]
  },
  {
   "cell_type": "code",
   "execution_count": null,
   "id": "9dbf257b",
   "metadata": {},
   "outputs": [],
   "source": [
    "# Import Pandas. \n",
    "import pandas as pd\n",
    "\n",
    "# Create a DataFrame.\n",
    "cars_3 = pd.DataFrame({'VW': ['Polo', 'T-Cross', 'Tiguan', 'Toureg'],\n",
    "                       'Toyota': ['Agya', 'Corolla', 'Rav4', 'Land Cruiser'],\n",
    "                       'Honda': ['Brio', 'Jazz', 'HRV', 'CRV'], \n",
    "                       'BMW': ['BMW1', 'BMW2', 'BMW3', 'BMW4']}, \n",
    "                      index=[0, 1, 2, 3])\n",
    "\n",
    "# View the DataFrame.\n",
    "cars_3"
   ]
  },
  {
   "cell_type": "code",
   "execution_count": null,
   "id": "a27df57b",
   "metadata": {},
   "outputs": [],
   "source": [
    "# Create a DataFrame.\n",
    "motorcycles_3 = pd.DataFrame({'VW': ['-', '-', '-', '-'],\n",
    "                              'Toyota': ['-', '-', '-', '-'],\n",
    "                              'Honda': ['Shine', 'Activa',\n",
    "                                        'Comfort Travel',\n",
    "                                        'Adventure Sport'], \n",
    "                              'BMW': ['Sport', 'Roadster',\n",
    "                                      'Heritage', 'Adventure']}, \n",
    "                             index=[0, 1, 2, 3])\n",
    "\n",
    "# View the DataFrame.\n",
    "motorcycles_3"
   ]
  },
  {
   "cell_type": "code",
   "execution_count": null,
   "id": "3d4b2ded",
   "metadata": {},
   "outputs": [],
   "source": [
    "# Merge the DataFrames.\n",
    "products_3 = pd.merge(cars_3, motorcycles_3)\n",
    "\n",
    "# View the DataFrame.\n",
    "products_3"
   ]
  },
  {
   "cell_type": "code",
   "execution_count": null,
   "id": "9bc0c1cf",
   "metadata": {},
   "outputs": [],
   "source": [
    "# Import Pandas.\n",
    "import pandas as pd\n",
    "\n",
    "# Import the CSV files.\n",
    "classlist_a = pd.read_csv('classlist_a.csv')\n",
    "classlist_b = pd.read_csv('classlist_b.csv')\n",
    "classlist_c = pd.read_csv('classlist_c.csv')\n",
    "classlist_d = pd.read_csv('classlist_d.csv')\n",
    "\n",
    "# Concatenate classlists a and b; and c and d.\n",
    "classlist_ab = pd.concat([classlist_a, classlist_b])\n",
    "classlist_cd = pd.concat([classlist_c, classlist_d])\n",
    "\n",
    "# View DataFrames.\n",
    "print(classlist_ab.shape)\n",
    "print(classlist_cd.shape)"
   ]
  },
  {
   "cell_type": "code",
   "execution_count": null,
   "id": "c55e8d41",
   "metadata": {},
   "outputs": [],
   "source": [
    "# Merge class lists ab and cd.\n",
    "classlist_final = pd.merge(classlist_ab, classlist_cd, \n",
    "                           how='outer', on='Student number') \n",
    "\n",
    "# View the DataFrame.\n",
    "print(classlist_final.shape)\n",
    "classlist_final"
   ]
  },
  {
   "cell_type": "code",
   "execution_count": null,
   "id": "f962d2b6",
   "metadata": {},
   "outputs": [],
   "source": [
    "# Import Pandas.\n",
    "import pandas as pd\n",
    "\n",
    "# Read CSV files from the current working directory\n",
    "classlist_a = pd.read_csv('classlist_a.csv')\n",
    "classlist_b = pd.read_csv('classlist_b.csv')\n",
    "classlist_c = pd.read_csv('classlist_c.csv')\n",
    "classlist_d = pd.read_csv('classlist_d.csv')\n",
    "\n",
    "# Print the shape of each DataFrame.\n",
    "print(classlist_a.shape)\n",
    "print(classlist_b.shape)\n",
    "print(classlist_c.shape)\n",
    "print(classlist_d.shape)\n",
    "\n",
    "# Merge four DataFrames into one DataFrame.\n",
    "classlist_final = pd.concat([classlist_a, classlist_b,\n",
    "                             classlist_c, classlist_d]) \n",
    "\n",
    "# View the DataFrame.\n",
    "classlist_final.shape"
   ]
  },
  {
   "cell_type": "code",
   "execution_count": null,
   "id": "7d45bdd7",
   "metadata": {},
   "outputs": [],
   "source": [
    "# Create group 1.\n",
    "group_surname = classlist_final.groupby('Surname')\n",
    "\n",
    "# View the DataFrame.\n",
    "group_surname"
   ]
  },
  {
   "cell_type": "code",
   "execution_count": null,
   "id": "37c93438",
   "metadata": {},
   "outputs": [],
   "source": [
    "group_marks = classlist_final.groupby('Final mark')\n",
    "\n",
    "# View the DataFrame.\n",
    "group_marks"
   ]
  },
  {
   "cell_type": "code",
   "execution_count": null,
   "id": "7da4e294",
   "metadata": {},
   "outputs": [],
   "source": [
    "# Create group 3.\n",
    "group_surname_marks = classlist_final.groupby(['Surname', 'Final mark'])\n",
    "\n",
    "# View the DataFrame.\n",
    "group_surname_marks"
   ]
  },
  {
   "cell_type": "code",
   "execution_count": null,
   "id": "7bdf6e7a",
   "metadata": {},
   "outputs": [],
   "source": [
    "# Create splitting within groups.\n",
    "group_surname_marks.sum()\n"
   ]
  },
  {
   "cell_type": "code",
   "execution_count": null,
   "id": "fdf60f1b",
   "metadata": {},
   "outputs": [],
   "source": [
    "# Use the size() function.\n",
    "group_surname_marks.size()"
   ]
  },
  {
   "cell_type": "code",
   "execution_count": null,
   "id": "a7566a7a",
   "metadata": {},
   "outputs": [],
   "source": [
    "# The size() based on surname column.\n",
    "group_surname.size()"
   ]
  },
  {
   "cell_type": "code",
   "execution_count": null,
   "id": "e482ad6a",
   "metadata": {},
   "outputs": [],
   "source": [
    "# Create a group based on initials.\n",
    "group_initials = classlist_final.groupby('Initials')\n",
    "\n",
    "# Create group_surname_initials based on columns Surname and Initials.\n",
    "group_surname_initials = classlist_final.groupby(['Surname', 'Initials'])\n",
    "\n",
    "# The size() based on Initials and Surname columns\n",
    "group_surname_initials.size()"
   ]
  },
  {
   "cell_type": "code",
   "execution_count": null,
   "id": "6811d8a6",
   "metadata": {},
   "outputs": [],
   "source": [
    "# Use the count() function.\n",
    "group_surname_initials.count()"
   ]
  },
  {
   "cell_type": "markdown",
   "id": "2f1c2376",
   "metadata": {},
   "source": [
    "# Reshaping, pivoting the dataset."
   ]
  },
  {
   "cell_type": "code",
   "execution_count": null,
   "id": "f78a17ad",
   "metadata": {},
   "outputs": [],
   "source": []
  },
  {
   "cell_type": "code",
   "execution_count": null,
   "id": "3d7c773f",
   "metadata": {},
   "outputs": [],
   "source": []
  },
  {
   "cell_type": "code",
   "execution_count": null,
   "id": "42957cec",
   "metadata": {},
   "outputs": [],
   "source": []
  },
  {
   "cell_type": "code",
   "execution_count": null,
   "id": "0f6af567",
   "metadata": {},
   "outputs": [],
   "source": []
  },
  {
   "cell_type": "code",
   "execution_count": null,
   "id": "69354fcd",
   "metadata": {},
   "outputs": [],
   "source": []
  },
  {
   "cell_type": "code",
   "execution_count": null,
   "id": "157b9a59",
   "metadata": {},
   "outputs": [],
   "source": []
  },
  {
   "cell_type": "code",
   "execution_count": null,
   "id": "1e5998e0",
   "metadata": {},
   "outputs": [],
   "source": []
  },
  {
   "cell_type": "markdown",
   "id": "799de2a4",
   "metadata": {},
   "source": [
    "# 3.2 Pandas functions - map series, apply dataframes"
   ]
  },
  {
   "cell_type": "markdown",
   "id": "3459d75a",
   "metadata": {},
   "source": [
    "# Map"
   ]
  },
  {
   "cell_type": "code",
   "execution_count": null,
   "id": "1df7438d",
   "metadata": {},
   "outputs": [],
   "source": [
    "# Import pandas.\n",
    "import pandas as pd\n",
    "\n",
    "# Read the CSV files from the current working directory\n",
    "classlist_a = pd.read_csv('classlist_a.csv')\n",
    "classlist_b = pd.read_csv('classlist_b.csv')\n",
    "classlist_c = pd.read_csv('classlist_c.csv')\n",
    "classlist_d = pd.read_csv('classlist_d.csv')\n",
    "\n",
    "# Concatentae the four class lists.\n",
    "classlist = pd.concat([classlist_a, classlist_b, classlist_c, classlist_d])\n",
    "\n",
    "# View the new DataFrame.\n",
    "print(classlist.shape)\n",
    "print(classlist.columns)\n",
    "print(classlist.dtypes)"
   ]
  },
  {
   "cell_type": "markdown",
   "id": "7d03b605",
   "metadata": {},
   "source": [
    "Prof. Minnaar needs to transform the class list according to the University's database. Therefore, she has two requests:\n",
    "\n",
    "She wants the Class column to be changed from a string to an integer. For example, the A and E should be replaced with 1 and 0. \n",
    "The column Final mark needs to be renamed to Final_mark. \n",
    "You can use the map() function to address both requests."
   ]
  },
  {
   "cell_type": "code",
   "execution_count": null,
   "id": "a32a64ea",
   "metadata": {},
   "outputs": [],
   "source": [
    "classlist['Class'] = classlist.astype(['Class'](int)\n",
    "\n",
    "print(classlist.columns)"
   ]
  },
  {
   "cell_type": "code",
   "execution_count": null,
   "id": "392d3eca",
   "metadata": {},
   "outputs": [],
   "source": [
    "# Import pandas.\n",
    "import pandas as pd\n",
    "\n",
    "# Read the CSV files from the current working directory\n",
    "classlist_a = pd.read_csv('classlist_a.csv')\n",
    "classlist_b = pd.read_csv('classlist_b.csv')\n",
    "classlist_c = pd.read_csv('classlist_c.csv')\n",
    "classlist_d = pd.read_csv('classlist_d.csv')\n",
    "\n",
    "# Concatentae the four class lists.\n",
    "classlist = pd.concat([classlist_a, classlist_b, classlist_c, classlist_d])\n",
    "\n",
    "                                      \n",
    "# View the new DataFrame.\n",
    "print(classlist.shape)\n",
    "print(classlist.columns)\n",
    "print(classlist.dtypes)"
   ]
  },
  {
   "cell_type": "code",
   "execution_count": null,
   "id": "739e8e40",
   "metadata": {},
   "outputs": [],
   "source": [
    "classlist.rename(columns = {'Final mark':'Final_mark'}, inplace=True)\n",
    "# View the new DataFrame.\n",
    "print(classlist.shape)\n",
    "print(classlist.columns)\n",
    "print(classlist.dtypes)"
   ]
  },
  {
   "cell_type": "code",
   "execution_count": null,
   "id": "2bc42759",
   "metadata": {},
   "outputs": [],
   "source": [
    "# Use the map() function only on a Pandas Series.\n",
    "classlist['Class_num'] = classlist.Class.map({'A':0, 'E':1})\n",
    "\n",
    "# View the DataFrame.\n",
    "print(classlist.shape)\n",
    "classlist.head()"
   ]
  },
  {
   "cell_type": "code",
   "execution_count": null,
   "id": "8aeceaa8",
   "metadata": {},
   "outputs": [],
   "source": [
    "# Compare columns Class and Class_num with the loc() function.\n",
    "print(classlist.loc[:, ['Class', 'Class_num']])\n",
    "\n",
    "# Compare columns Class and Class_num with the iloc() function.\n",
    "classlist.iloc[:, 4:6]"
   ]
  },
  {
   "cell_type": "code",
   "execution_count": null,
   "id": "16a56b1c",
   "metadata": {},
   "outputs": [],
   "source": [
    "classlist"
   ]
  },
  {
   "cell_type": "code",
   "execution_count": null,
   "id": "fef9dfda",
   "metadata": {},
   "outputs": [],
   "source": [
    "print(classlist['Final_mark'].mean())"
   ]
  },
  {
   "cell_type": "markdown",
   "id": "0ba4276e",
   "metadata": {},
   "source": [
    "# apply"
   ]
  },
  {
   "cell_type": "code",
   "execution_count": null,
   "id": "9882e207",
   "metadata": {},
   "outputs": [],
   "source": [
    "## Previous code to prepare your workstation. ## apply for one column/series.\n",
    "# Import Pandas.\n",
    "import pandas as pd\n",
    "\n",
    "# Import the CSV files.\n",
    "classlist_a = pd.read_csv('classlist_a.csv')\n",
    "classlist_b = pd.read_csv('classlist_b.csv')\n",
    "classlist_c = pd.read_csv('classlist_c.csv')\n",
    "classlist_d = pd.read_csv('classlist_d.csv')\n",
    "\n",
    "# Concatenate classlists a and b; and c and d.\n",
    "classlist_ab = pd.concat([classlist_a, classlist_b])\n",
    "classlist_cd = pd.concat([classlist_c, classlist_d])\n",
    "\n",
    "classlist_final = pd.concat([classlist_ab, classlist_cd])\n",
    "\n",
    "# Use the apply() function applies a function to each element within a Series.\n",
    "classlist_final['Surname_length'] = classlist_final.Surname.apply(len)\n",
    "\n",
    "# View the DataFrame.\n",
    "classlist_final.head()"
   ]
  },
  {
   "cell_type": "code",
   "execution_count": null,
   "id": "70be79db",
   "metadata": {},
   "outputs": [],
   "source": [
    "# Calculate average of final mark. Apply for dataframe.\n",
    "import numpy as np\n",
    "classlist_final[['Final mark']].apply(np.mean)"
   ]
  },
  {
   "cell_type": "code",
   "execution_count": null,
   "id": "2ff19f37",
   "metadata": {},
   "outputs": [],
   "source": [
    "classlist_final[['Final mark']].apply(np.min)"
   ]
  },
  {
   "cell_type": "code",
   "execution_count": null,
   "id": "cd70593a",
   "metadata": {},
   "outputs": [],
   "source": [
    "classlist_final[['Final mark']].apply(np.max)"
   ]
  },
  {
   "cell_type": "markdown",
   "id": "8fa01c8a",
   "metadata": {},
   "source": [
    "# Applymap"
   ]
  },
  {
   "cell_type": "code",
   "execution_count": 2,
   "id": "e1af3922",
   "metadata": {},
   "outputs": [
    {
     "name": "stdout",
     "output_type": "stream",
     "text": [
      "(193, 6)\n",
      "country                          object\n",
      "beer_servings                     int64\n",
      "spirit_servings                   int64\n",
      "wine_servings                     int64\n",
      "total_litres_of_pure_alcohol    float64\n",
      "continent                        object\n",
      "dtype: object\n"
     ]
    }
   ],
   "source": [
    "# Import Pandas.\n",
    "import pandas as pd\n",
    "\n",
    "# Import a CSV data set with a URL from a website.\n",
    "drinks = pd.read_csv('http://bit.ly/drinksbycountry')\n",
    "\n",
    "# View the DataFrame.\n",
    "print(drinks.shape)\n",
    "print(drinks.dtypes)\n",
    "\n"
   ]
  },
  {
   "cell_type": "code",
   "execution_count": 3,
   "id": "a1b9b8c2",
   "metadata": {},
   "outputs": [
    {
     "data": {
      "text/plain": [
       "beer_servings      float64\n",
       "spirit_servings    float64\n",
       "wine_servings      float64\n",
       "dtype: object"
      ]
     },
     "execution_count": 3,
     "metadata": {},
     "output_type": "execute_result"
    }
   ],
   "source": [
    "# Employ the applymap function to specified columns.\n",
    "drinks_new = drinks.loc[:, 'beer_servings':'wine_servings'].applymap(float)\n",
    "\n",
    "# View the data types.\n",
    "drinks_new.dtypes"
   ]
  },
  {
   "cell_type": "code",
   "execution_count": 5,
   "id": "dfd8659b",
   "metadata": {},
   "outputs": [
    {
     "name": "stdout",
     "output_type": "stream",
     "text": [
      "(3945, 2)\n"
     ]
    },
    {
     "data": {
      "text/html": [
       "<div>\n",
       "<style scoped>\n",
       "    .dataframe tbody tr th:only-of-type {\n",
       "        vertical-align: middle;\n",
       "    }\n",
       "\n",
       "    .dataframe tbody tr th {\n",
       "        vertical-align: top;\n",
       "    }\n",
       "\n",
       "    .dataframe thead th {\n",
       "        text-align: right;\n",
       "    }\n",
       "</style>\n",
       "<table border=\"1\" class=\"dataframe\">\n",
       "  <thead>\n",
       "    <tr style=\"text-align: right;\">\n",
       "      <th></th>\n",
       "      <th>StockCode</th>\n",
       "      <th>Description</th>\n",
       "    </tr>\n",
       "  </thead>\n",
       "  <tbody>\n",
       "    <tr>\n",
       "      <th>0</th>\n",
       "      <td>10002</td>\n",
       "      <td>INFLATABLE POLITICAL GLOBE</td>\n",
       "    </tr>\n",
       "    <tr>\n",
       "      <th>1</th>\n",
       "      <td>10080</td>\n",
       "      <td>GROOVY CACTUS INFLATABLE</td>\n",
       "    </tr>\n",
       "    <tr>\n",
       "      <th>2</th>\n",
       "      <td>10120</td>\n",
       "      <td>DOGGY RUBBER</td>\n",
       "    </tr>\n",
       "    <tr>\n",
       "      <th>3</th>\n",
       "      <td>10123C</td>\n",
       "      <td>HEARTS WRAPPING TAPE</td>\n",
       "    </tr>\n",
       "    <tr>\n",
       "      <th>4</th>\n",
       "      <td>10124A</td>\n",
       "      <td>SPOTS ON RED BOOKCOVER TAPE</td>\n",
       "    </tr>\n",
       "  </tbody>\n",
       "</table>\n",
       "</div>"
      ],
      "text/plain": [
       "  StockCode                  Description\n",
       "0     10002   INFLATABLE POLITICAL GLOBE\n",
       "1     10080     GROOVY CACTUS INFLATABLE\n",
       "2     10120                 DOGGY RUBBER\n",
       "3    10123C         HEARTS WRAPPING TAPE\n",
       "4    10124A  SPOTS ON RED BOOKCOVER TAPE"
      ]
     },
     "execution_count": 5,
     "metadata": {},
     "output_type": "execute_result"
    }
   ],
   "source": [
    "# Read the CSV file from the current working directory.\n",
    "products = pd.read_csv('products.csv')\n",
    "\n",
    "# View the DataFrame.\n",
    "print(products.shape)\n",
    "products.head()"
   ]
  },
  {
   "cell_type": "code",
   "execution_count": 13,
   "id": "113386c3",
   "metadata": {},
   "outputs": [
    {
     "data": {
      "text/html": [
       "<div>\n",
       "<style scoped>\n",
       "    .dataframe tbody tr th:only-of-type {\n",
       "        vertical-align: middle;\n",
       "    }\n",
       "\n",
       "    .dataframe tbody tr th {\n",
       "        vertical-align: top;\n",
       "    }\n",
       "\n",
       "    .dataframe thead th {\n",
       "        text-align: right;\n",
       "    }\n",
       "</style>\n",
       "<table border=\"1\" class=\"dataframe\">\n",
       "  <thead>\n",
       "    <tr style=\"text-align: right;\">\n",
       "      <th></th>\n",
       "      <th>StockCode</th>\n",
       "      <th>Description</th>\n",
       "      <th>leng1</th>\n",
       "    </tr>\n",
       "  </thead>\n",
       "  <tbody>\n",
       "    <tr>\n",
       "      <th>0</th>\n",
       "      <td>10002</td>\n",
       "      <td>INFLATABLE POLITICAL GLOBE</td>\n",
       "      <td>15</td>\n",
       "    </tr>\n",
       "    <tr>\n",
       "      <th>1</th>\n",
       "      <td>10080</td>\n",
       "      <td>GROOVY CACTUS INFLATABLE</td>\n",
       "      <td>15</td>\n",
       "    </tr>\n",
       "    <tr>\n",
       "      <th>2</th>\n",
       "      <td>10120</td>\n",
       "      <td>DOGGY RUBBER</td>\n",
       "      <td>15</td>\n",
       "    </tr>\n",
       "    <tr>\n",
       "      <th>3</th>\n",
       "      <td>10123C</td>\n",
       "      <td>HEARTS WRAPPING TAPE</td>\n",
       "      <td>15</td>\n",
       "    </tr>\n",
       "    <tr>\n",
       "      <th>4</th>\n",
       "      <td>10124A</td>\n",
       "      <td>SPOTS ON RED BOOKCOVER TAPE</td>\n",
       "      <td>15</td>\n",
       "    </tr>\n",
       "  </tbody>\n",
       "</table>\n",
       "</div>"
      ],
      "text/plain": [
       "  StockCode                  Description  leng1\n",
       "0     10002   INFLATABLE POLITICAL GLOBE     15\n",
       "1     10080     GROOVY CACTUS INFLATABLE     15\n",
       "2     10120                 DOGGY RUBBER     15\n",
       "3    10123C         HEARTS WRAPPING TAPE     15\n",
       "4    10124A  SPOTS ON RED BOOKCOVER TAPE     15"
      ]
     },
     "execution_count": 13,
     "metadata": {},
     "output_type": "execute_result"
    }
   ],
   "source": [
    "# My basic solution. Must change to str. \n",
    "products['leng1'] = len(str(['Description']))\n",
    "products.head()"
   ]
  },
  {
   "cell_type": "code",
   "execution_count": 11,
   "id": "c6522f0d",
   "metadata": {},
   "outputs": [
    {
     "name": "stdout",
     "output_type": "stream",
     "text": [
      "(3945, 2)\n"
     ]
    },
    {
     "data": {
      "text/html": [
       "<div>\n",
       "<style scoped>\n",
       "    .dataframe tbody tr th:only-of-type {\n",
       "        vertical-align: middle;\n",
       "    }\n",
       "\n",
       "    .dataframe tbody tr th {\n",
       "        vertical-align: top;\n",
       "    }\n",
       "\n",
       "    .dataframe thead th {\n",
       "        text-align: right;\n",
       "    }\n",
       "</style>\n",
       "<table border=\"1\" class=\"dataframe\">\n",
       "  <thead>\n",
       "    <tr style=\"text-align: right;\">\n",
       "      <th></th>\n",
       "      <th>LenStockCode</th>\n",
       "      <th>LenDescription</th>\n",
       "    </tr>\n",
       "  </thead>\n",
       "  <tbody>\n",
       "    <tr>\n",
       "      <th>0</th>\n",
       "      <td>5</td>\n",
       "      <td>26</td>\n",
       "    </tr>\n",
       "    <tr>\n",
       "      <th>1</th>\n",
       "      <td>5</td>\n",
       "      <td>24</td>\n",
       "    </tr>\n",
       "    <tr>\n",
       "      <th>2</th>\n",
       "      <td>5</td>\n",
       "      <td>12</td>\n",
       "    </tr>\n",
       "    <tr>\n",
       "      <th>3</th>\n",
       "      <td>6</td>\n",
       "      <td>20</td>\n",
       "    </tr>\n",
       "    <tr>\n",
       "      <th>4</th>\n",
       "      <td>6</td>\n",
       "      <td>27</td>\n",
       "    </tr>\n",
       "  </tbody>\n",
       "</table>\n",
       "</div>"
      ],
      "text/plain": [
       "   LenStockCode  LenDescription\n",
       "0             5              26\n",
       "1             5              24\n",
       "2             5              12\n",
       "3             6              20\n",
       "4             6              27"
      ]
     },
     "execution_count": 11,
     "metadata": {},
     "output_type": "execute_result"
    }
   ],
   "source": [
    "# Read the CSV file from the current working directory.\n",
    "products = pd.read_csv('products.csv')\n",
    "\n",
    "# View the DataFrame.\n",
    "print(products.shape)\n",
    "\n",
    "# Determine the number of characters.\n",
    "number_of_chars = products.applymap(len)\\\n",
    ".rename(columns={'StockCode': 'LenStockCode', 'Description': 'LenDescription'})\n",
    "\n",
    "# View the output.\n",
    "number_of_chars.head()"
   ]
  },
  {
   "cell_type": "code",
   "execution_count": null,
   "id": "6390302d",
   "metadata": {},
   "outputs": [],
   "source": []
  },
  {
   "cell_type": "code",
   "execution_count": null,
   "id": "e55a7f2c",
   "metadata": {},
   "outputs": [],
   "source": []
  },
  {
   "cell_type": "code",
   "execution_count": null,
   "id": "11745ed7",
   "metadata": {},
   "outputs": [],
   "source": []
  },
  {
   "cell_type": "markdown",
   "id": "63210065",
   "metadata": {},
   "source": [
    "# USER DEFINED functions."
   ]
  },
  {
   "cell_type": "code",
   "execution_count": 1,
   "id": "d45e1a9e",
   "metadata": {},
   "outputs": [
    {
     "name": "stdout",
     "output_type": "stream",
     "text": [
      "addition 30\n",
      "subtraction 20\n",
      "multiplication 125\n",
      "division 5.0\n"
     ]
    }
   ],
   "source": [
    "def calculator(a,b) :\n",
    "    print('addition', a+b)\n",
    "    print('subtraction', a-b)\n",
    "    print('multiplication', a*b)\n",
    "    print('division', a/b)\n",
    "    return;\n",
    "    \n",
    "calculator(25, 5)"
   ]
  },
  {
   "cell_type": "code",
   "execution_count": null,
   "id": "36bebde4",
   "metadata": {},
   "outputs": [],
   "source": [
    "# Write an user-defined function.\n",
    "def f(x):\n",
    "    y = (x * 2) + 10\n",
    "    return y\n",
    "\n",
    "# Stipulate what to calculate.\n",
    "f(x=3)"
   ]
  },
  {
   "cell_type": "code",
   "execution_count": null,
   "id": "a81c4d48",
   "metadata": {},
   "outputs": [],
   "source": [
    "# Write an user-defined function.\n",
    "def ftb(x) :\n",
    "    print(x * 2 + 10)\n",
    "    return;\n",
    "ftb(3)"
   ]
  },
  {
   "cell_type": "code",
   "execution_count": null,
   "id": "80a5ea5e",
   "metadata": {},
   "outputs": [],
   "source": [
    "\n",
    "# Import Pandas.\n",
    "import pandas as pd\n",
    "\n",
    "# Read the CSV file from the current working directory.\n",
    "products = pd.read_csv('products.csv')\n",
    "\n",
    "# View the DataFrame.\n",
    "products.shape"
   ]
  },
  {
   "cell_type": "code",
   "execution_count": null,
   "id": "0d4193b9",
   "metadata": {},
   "outputs": [],
   "source": [
    "# Create an user-defined function\n",
    "def contains_glass(x):\n",
    "    \"\"\" does the product contain glass? \"\"\"\n",
    "    y = x.lower()\n",
    "    return \"glass\" in y\n",
    "\n",
    "# View the output.\n",
    "print(contains_glass(x=\"Glass bottle\"))\n",
    "print(contains_glass(x=\"glass bottle\"))\n",
    "print(contains_glass(x=\"bottle\"))"
   ]
  },
  {
   "cell_type": "code",
   "execution_count": null,
   "id": "0da29c21",
   "metadata": {},
   "outputs": [],
   "source": [
    "# Use the apply() function.\n",
    "fc = products['Description'].apply(contains_glass)\n",
    "\n",
    "# View the DataFrame.\n",
    "print(fc)\n",
    "\n",
    "# Filter the DataFrame.\n",
    "products[fc]"
   ]
  },
  {
   "cell_type": "code",
   "execution_count": null,
   "id": "cafe6d8e",
   "metadata": {},
   "outputs": [],
   "source": []
  },
  {
   "cell_type": "code",
   "execution_count": null,
   "id": "f62a82c5",
   "metadata": {},
   "outputs": [],
   "source": []
  },
  {
   "cell_type": "code",
   "execution_count": null,
   "id": "6dd90c70",
   "metadata": {},
   "outputs": [],
   "source": []
  },
  {
   "cell_type": "code",
   "execution_count": null,
   "id": "46351614",
   "metadata": {},
   "outputs": [],
   "source": []
  },
  {
   "cell_type": "code",
   "execution_count": null,
   "id": "9c3ff0c5",
   "metadata": {},
   "outputs": [],
   "source": []
  },
  {
   "cell_type": "code",
   "execution_count": null,
   "id": "0c43529c",
   "metadata": {},
   "outputs": [],
   "source": []
  },
  {
   "cell_type": "code",
   "execution_count": null,
   "id": "17925c16",
   "metadata": {},
   "outputs": [],
   "source": []
  },
  {
   "cell_type": "code",
   "execution_count": null,
   "id": "a88804ad",
   "metadata": {},
   "outputs": [],
   "source": []
  },
  {
   "cell_type": "code",
   "execution_count": null,
   "id": "8b0110ef",
   "metadata": {},
   "outputs": [],
   "source": []
  },
  {
   "cell_type": "code",
   "execution_count": null,
   "id": "58a5358b",
   "metadata": {},
   "outputs": [],
   "source": []
  }
 ],
 "metadata": {
  "kernelspec": {
   "display_name": "Python 3 (ipykernel)",
   "language": "python",
   "name": "python3"
  },
  "language_info": {
   "codemirror_mode": {
    "name": "ipython",
    "version": 3
   },
   "file_extension": ".py",
   "mimetype": "text/x-python",
   "name": "python",
   "nbconvert_exporter": "python",
   "pygments_lexer": "ipython3",
   "version": "3.9.12"
  }
 },
 "nbformat": 4,
 "nbformat_minor": 5
}
